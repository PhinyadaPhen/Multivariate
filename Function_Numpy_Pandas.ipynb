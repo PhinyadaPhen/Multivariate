{
  "nbformat": 4,
  "nbformat_minor": 0,
  "metadata": {
    "colab": {
      "name": "Function_Numpy_Pandas.ipynb",
      "provenance": [],
      "authorship_tag": "ABX9TyMTpdndYECqq2ELesSNRzfB",
      "include_colab_link": true
    },
    "kernelspec": {
      "name": "python3",
      "display_name": "Python 3"
    }
  },
  "cells": [
    {
      "cell_type": "markdown",
      "metadata": {
        "id": "view-in-github",
        "colab_type": "text"
      },
      "source": [
        "<a href=\"https://colab.research.google.com/github/PhinyadaPhen/Multivariate/blob/main/Function_Numpy_Pandas.ipynb\" target=\"_parent\"><img src=\"https://colab.research.google.com/assets/colab-badge.svg\" alt=\"Open In Colab\"/></a>"
      ]
    },
    {
      "cell_type": "markdown",
      "metadata": {
        "id": "0H1u9r0ASMo4"
      },
      "source": [
        "#Funcion\r\n"
      ]
    },
    {
      "cell_type": "markdown",
      "metadata": {
        "id": "mro2G3RDY2nY"
      },
      "source": [
        "```python\r\n",
        "def functon_name(_Input_):\r\n",
        "    do_something with _Input_ to produce _Output_\r\n",
        "    return _Output_\r\n",
        "```"
      ]
    },
    {
      "cell_type": "markdown",
      "metadata": {
        "id": "BnR2fs_yTT-y"
      },
      "source": [
        "function มีส่วนสำคัญทั้งหมด 4 ส่วน \r\n",
        "\r\n",
        "\r\n",
        "1.   บอก Python ว่าเราจะเขียนฟังก์ชัน ชื่ออะไร def fuction_name(): (ขาดไม่ได้)\r\n",
        "2.   กำหนดตัวแปรที่จะเป็น input (ขาดได้)\r\n",
        "3.   ส่วนประมวลผล do_sth with Input to get Output (ขาดไม่ได้)\r\n",
        "4.   ส่วน Output return Output (ขาดได้)\r\n",
        "\r\n",
        "\r\n",
        "\r\n"
      ]
    },
    {
      "cell_type": "code",
      "metadata": {
        "id": "Ppa1xGFGSDs0"
      },
      "source": [
        "def print_name(name,surname,ID):\r\n",
        "    st = f' ชื่อ {name} นามสกุล {surname} ID {ID}' \r\n",
        "    return st"
      ],
      "execution_count": 2,
      "outputs": []
    },
    {
      "cell_type": "markdown",
      "metadata": {
        "id": "pkB3aHGSYXgv"
      },
      "source": [
        "####การเรียกใช้ฟังก์ชั่น"
      ]
    },
    {
      "cell_type": "code",
      "metadata": {
        "colab": {
          "base_uri": "https://localhost:8080/",
          "height": 35
        },
        "id": "CkflWVLxVEES",
        "outputId": "7463a3ab-9163-423d-eca8-7c75865f165a"
      },
      "source": [
        "print_name('กิตติมา' , 'อุปสุข' , '623021040-9')"
      ],
      "execution_count": 3,
      "outputs": [
        {
          "output_type": "execute_result",
          "data": {
            "application/vnd.google.colaboratory.intrinsic+json": {
              "type": "string"
            },
            "text/plain": [
              "' ชื่อ กิตติมา นามสกุล อุปสุข ID 623021040-9'"
            ]
          },
          "metadata": {
            "tags": []
          },
          "execution_count": 3
        }
      ]
    },
    {
      "cell_type": "code",
      "metadata": {
        "colab": {
          "base_uri": "https://localhost:8080/"
        },
        "id": "OzoXD2JUW0bc",
        "outputId": "8fd2d6f4-340a-4fc9-b4a5-ebc07a319008"
      },
      "source": [
        "output_string = print_name('กิตติมา' , 'อุปสุข' , '623021040-9')\r\n",
        "print(output_string)"
      ],
      "execution_count": 4,
      "outputs": [
        {
          "output_type": "stream",
          "text": [
            " ชื่อ กิตติมา นามสกุล อุปสุข ID 623021040-9\n"
          ],
          "name": "stdout"
        }
      ]
    },
    {
      "cell_type": "markdown",
      "metadata": {
        "id": "NTVs0UZYXcVG"
      },
      "source": [
        "#### ฟังก์ชั่นไม่จำเป็นต้องมี Output"
      ]
    },
    {
      "cell_type": "code",
      "metadata": {
        "id": "C5FpytBlXVfF"
      },
      "source": [
        "def print_name2(surname,ID,name):\r\n",
        "    st = f'ชื่อ {name} นามสกุล {surname} รหัส {ID}'\r\n",
        "    print(st)"
      ],
      "execution_count": 5,
      "outputs": []
    },
    {
      "cell_type": "code",
      "metadata": {
        "colab": {
          "base_uri": "https://localhost:8080/",
          "height": 35
        },
        "id": "D2kenc9vX9ny",
        "outputId": "7e22e401-8170-4d00-e5e9-a1a3bbc7e2f2"
      },
      "source": [
        "print_name('กิตติมา' , 'อุปสุข' , '623021040-9')"
      ],
      "execution_count": 6,
      "outputs": [
        {
          "output_type": "execute_result",
          "data": {
            "application/vnd.google.colaboratory.intrinsic+json": {
              "type": "string"
            },
            "text/plain": [
              "' ชื่อ กิตติมา นามสกุล อุปสุข ID 623021040-9'"
            ]
          },
          "metadata": {
            "tags": []
          },
          "execution_count": 6
        }
      ]
    },
    {
      "cell_type": "code",
      "metadata": {
        "colab": {
          "base_uri": "https://localhost:8080/"
        },
        "id": "wHNhil1wYHu5",
        "outputId": "68658d02-3d32-427b-8da9-1244df7cd1b5"
      },
      "source": [
        "op2 = print_name2('กิตติมา' , 'อุปสุข' , '623021040-9')"
      ],
      "execution_count": 7,
      "outputs": [
        {
          "output_type": "stream",
          "text": [
            "ชื่อ 623021040-9 นามสกุล กิตติมา รหัส อุปสุข\n"
          ],
          "name": "stdout"
        }
      ]
    },
    {
      "cell_type": "code",
      "metadata": {
        "colab": {
          "base_uri": "https://localhost:8080/"
        },
        "id": "XVPewt_BYQ7N",
        "outputId": "98b0316b-eef1-42e8-c759-9c23f724de56"
      },
      "source": [
        "print(op2)"
      ],
      "execution_count": 8,
      "outputs": [
        {
          "output_type": "stream",
          "text": [
            "None\n"
          ],
          "name": "stdout"
        }
      ]
    },
    {
      "cell_type": "code",
      "metadata": {
        "id": "vnkpoagqYTBI"
      },
      "source": [
        "def Pi():\r\n",
        "    return 3.14159265359"
      ],
      "execution_count": 9,
      "outputs": []
    },
    {
      "cell_type": "code",
      "metadata": {
        "colab": {
          "base_uri": "https://localhost:8080/"
        },
        "id": "JkiJ4PBjZPs8",
        "outputId": "c7c9f2c1-2e7b-4996-ad93-9196793d2f33"
      },
      "source": [
        "#คำนวณพื้นที่วงกลมที่มีขนาดเส้นผ่านศูนย์กลางเท่ากับ 3 \r\n",
        "Pi()*(1.5**2)"
      ],
      "execution_count": 10,
      "outputs": [
        {
          "output_type": "execute_result",
          "data": {
            "text/plain": [
              "7.0685834705775"
            ]
          },
          "metadata": {
            "tags": []
          },
          "execution_count": 10
        }
      ]
    },
    {
      "cell_type": "code",
      "metadata": {
        "id": "S1GbQ7cDZiY5"
      },
      "source": [
        "def print_my_name():\r\n",
        "    print('ภิญญาดา เพ็ญสุข 623021052-2')"
      ],
      "execution_count": 11,
      "outputs": []
    },
    {
      "cell_type": "code",
      "metadata": {
        "colab": {
          "base_uri": "https://localhost:8080/"
        },
        "id": "dQECEYNAZyzp",
        "outputId": "9d1469fc-b62f-4025-8def-e4cc3446f2b8"
      },
      "source": [
        "print_my_name()"
      ],
      "execution_count": 12,
      "outputs": [
        {
          "output_type": "stream",
          "text": [
            "ภิญญาดา เพ็ญสุข 623021052-2\n"
          ],
          "name": "stdout"
        }
      ]
    },
    {
      "cell_type": "markdown",
      "metadata": {
        "id": "A-v0aWgPaEd0"
      },
      "source": [
        "### input ของ Function ใน Python มี 2 แบบคือ input ที่จำเป็นต้องใส่ กับ input ที่ไม่จำเป็นต้องใส่ (มีค่า default) เราต้องเรียง input ที่จำเป็นต้องใส่ขึ้นก่อน\r\n",
        "\r\n",
        "\r\n"
      ]
    },
    {
      "cell_type": "code",
      "metadata": {
        "id": "8Fh1Myb6Z2WM"
      },
      "source": [
        "def print_2lines_default(name,surname,ID,grade='F'):\r\n",
        "    st = f'ชื่อ {name} นามสกุล {surname} รหัส {ID}'\r\n",
        "    print(st)\r\n",
        "    st2=f'เกรดวิชา Multivariate >>> {grade}'\r\n",
        "    print(st2)"
      ],
      "execution_count": 13,
      "outputs": []
    },
    {
      "cell_type": "code",
      "metadata": {
        "colab": {
          "base_uri": "https://localhost:8080/"
        },
        "id": "5YeX2hscb643",
        "outputId": "a0e070b8-673e-4c88-fde7-d439e0c4c863"
      },
      "source": [
        "print_2lines_default('ภิญญาดา','เพ็ญสุข','623021052-2','A')"
      ],
      "execution_count": 14,
      "outputs": [
        {
          "output_type": "stream",
          "text": [
            "ชื่อ ภิญญาดา นามสกุล เพ็ญสุข รหัส 623021052-2\n",
            "เกรดวิชา Multivariate >>> A\n"
          ],
          "name": "stdout"
        }
      ]
    },
    {
      "cell_type": "markdown",
      "metadata": {
        "id": "XbOw30vCcTdS"
      },
      "source": [
        "#### เราสามารถเรียกฟังก์ชั่นโดยใช้ชื่อตัวแปรของฟังก์ชั่นช่วยได้"
      ]
    },
    {
      "cell_type": "code",
      "metadata": {
        "colab": {
          "base_uri": "https://localhost:8080/"
        },
        "id": "xEa1tR4ycNxb",
        "outputId": "571cb756-539c-4458-9634-3c101bf6a229"
      },
      "source": [
        "print_name2(name='กิตติมา', surname='อุปสุข', ID='623021040-9')"
      ],
      "execution_count": null,
      "outputs": [
        {
          "output_type": "stream",
          "text": [
            "ชื่อ กิตติมา นามสกุล อุปสุข รหัส 623021040-9\n"
          ],
          "name": "stdout"
        }
      ]
    },
    {
      "cell_type": "markdown",
      "metadata": {
        "id": "Ku06MDfJdC-o"
      },
      "source": [
        "HW3 ให้เขียน function คำนวณจำนวนวินาทีจาก เวลาต่อไปนี้\r\n",
        "\r\n",
        "'14-15-31'\r\n",
        "\r\n",
        "'13-00-01'\r\n",
        "\r\n",
        "'05-49-44'\r\n",
        "\r\n",
        "'00-00-16'\r\n",
        "\r\n",
        "และ print ให้สวยงาม\r\n"
      ]
    },
    {
      "cell_type": "code",
      "metadata": {
        "id": "_KNBWhaFdBzT"
      },
      "source": [
        "def tid(time):\r\n",
        "    tid = f'เวลาที่โจทย์กำหนดมาให้ คือ {time}'\r\n",
        "    timeee = time.split('-')\r\n",
        "    print(tid)\r\n",
        "    a = int (timeee[0])*3600\r\n",
        "    b = int (timeee[1])*60\r\n",
        "    c = int (timeee[2])\r\n",
        "    total = a+b+c\r\n",
        "    tid2=f'คำนวณเป็นวินาทีได้ {total} วินาที '\r\n",
        "    print(tid2)"
      ],
      "execution_count": 26,
      "outputs": []
    },
    {
      "cell_type": "code",
      "metadata": {
        "id": "6HsAApZCu2eW",
        "outputId": "d6fa068e-8396-48c7-b72f-8f610da574bc",
        "colab": {
          "base_uri": "https://localhost:8080/"
        }
      },
      "source": [
        "tid('14-15-31')"
      ],
      "execution_count": 27,
      "outputs": [
        {
          "output_type": "stream",
          "text": [
            "เวลาที่โจทย์กำหนดมาให้ คือ 14-15-31\n",
            "คำนวณเป็นวินาทีได้ 51331 วินาที \n"
          ],
          "name": "stdout"
        }
      ]
    },
    {
      "cell_type": "code",
      "metadata": {
        "id": "MO9-tiNPvGiq",
        "outputId": "f30a8a09-7578-4a8e-8f11-d98e26435455",
        "colab": {
          "base_uri": "https://localhost:8080/"
        }
      },
      "source": [
        "tid('13-00-01')"
      ],
      "execution_count": 28,
      "outputs": [
        {
          "output_type": "stream",
          "text": [
            "เวลาที่โจทย์กำหนดมาให้ คือ 13-00-01\n",
            "คำนวณเป็นวินาทีได้ 46801 วินาที \n"
          ],
          "name": "stdout"
        }
      ]
    },
    {
      "cell_type": "code",
      "metadata": {
        "id": "3NlAi8u2wKDt",
        "outputId": "476bb670-83db-4b28-facd-ec4990266387",
        "colab": {
          "base_uri": "https://localhost:8080/"
        }
      },
      "source": [
        "tid('05-49-44')"
      ],
      "execution_count": 29,
      "outputs": [
        {
          "output_type": "stream",
          "text": [
            "เวลาที่โจทย์กำหนดมาให้ คือ 05-49-44\n",
            "คำนวณเป็นวินาทีได้ 20984 วินาที \n"
          ],
          "name": "stdout"
        }
      ]
    },
    {
      "cell_type": "code",
      "metadata": {
        "id": "GlgJlA0NwQE3",
        "outputId": "29baba1d-2d25-4a91-fb5e-0186f608e4b5",
        "colab": {
          "base_uri": "https://localhost:8080/"
        }
      },
      "source": [
        "tid('00-00-16')"
      ],
      "execution_count": 30,
      "outputs": [
        {
          "output_type": "stream",
          "text": [
            "เวลาที่โจทย์กำหนดมาให้ คือ 00-00-16\n",
            "คำนวณเป็นวินาทีได้ 16 วินาที \n"
          ],
          "name": "stdout"
        }
      ]
    }
  ]
}