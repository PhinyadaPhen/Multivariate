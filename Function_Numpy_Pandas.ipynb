{
  "nbformat": 4,
  "nbformat_minor": 0,
  "metadata": {
    "colab": {
      "name": "Function_Numpy_Pandas.ipynb",
      "provenance": [],
      "authorship_tag": "ABX9TyO34T6ZN2yZ84Se8QOSufuk",
      "include_colab_link": true
    },
    "kernelspec": {
      "name": "python3",
      "display_name": "Python 3"
    }
  },
  "cells": [
    {
      "cell_type": "markdown",
      "metadata": {
        "id": "view-in-github",
        "colab_type": "text"
      },
      "source": [
        "<a href=\"https://colab.research.google.com/github/PhinyadaPhen/Multivariate/blob/main/Function_Numpy_Pandas.ipynb\" target=\"_parent\"><img src=\"https://colab.research.google.com/assets/colab-badge.svg\" alt=\"Open In Colab\"/></a>"
      ]
    },
    {
      "cell_type": "markdown",
      "metadata": {
        "id": "0H1u9r0ASMo4"
      },
      "source": [
        "#Funcion\r\n"
      ]
    },
    {
      "cell_type": "markdown",
      "metadata": {
        "id": "mro2G3RDY2nY"
      },
      "source": [
        "```python\r\n",
        "def functon_name(_Input_):\r\n",
        "    do_something with _Input_ to produce _Output_\r\n",
        "    return _Output_\r\n",
        "```"
      ]
    },
    {
      "cell_type": "markdown",
      "metadata": {
        "id": "BnR2fs_yTT-y"
      },
      "source": [
        "function มีส่วนสำคัญทั้งหมด 4 ส่วน \r\n",
        "\r\n",
        "\r\n",
        "1.   บอก Python ว่าเราจะเขียนฟังก์ชัน ชื่ออะไร def fuction_name(): (ขาดไม่ได้)\r\n",
        "2.   กำหนดตัวแปรที่จะเป็น input (ขาดได้)\r\n",
        "3.   ส่วนประมวลผล do_sth with Input to get Output (ขาดไม่ได้)\r\n",
        "4.   ส่วน Output return Output (ขาดได้)\r\n",
        "\r\n",
        "\r\n",
        "\r\n"
      ]
    },
    {
      "cell_type": "code",
      "metadata": {
        "id": "Ppa1xGFGSDs0"
      },
      "source": [
        "def print_name(name,surname,ID):\r\n",
        "    st = f' ชื่อ {name} นามสกุล {surname} ID {ID}' \r\n",
        "    return st"
      ],
      "execution_count": 1,
      "outputs": []
    },
    {
      "cell_type": "markdown",
      "metadata": {
        "id": "pkB3aHGSYXgv"
      },
      "source": [
        "####การเรียกใช้ฟังก์ชั่น"
      ]
    },
    {
      "cell_type": "code",
      "metadata": {
        "colab": {
          "base_uri": "https://localhost:8080/",
          "height": 35
        },
        "id": "CkflWVLxVEES",
        "outputId": "15e33e8c-a9f1-410c-978f-aedb489b2c34"
      },
      "source": [
        "print_name('กิตติมา' , 'อุปสุข' , '623021040-9')"
      ],
      "execution_count": 2,
      "outputs": [
        {
          "output_type": "execute_result",
          "data": {
            "application/vnd.google.colaboratory.intrinsic+json": {
              "type": "string"
            },
            "text/plain": [
              "' ชื่อ กิตติมา นามสกุล อุปสุข ID 623021040-9'"
            ]
          },
          "metadata": {
            "tags": []
          },
          "execution_count": 2
        }
      ]
    },
    {
      "cell_type": "code",
      "metadata": {
        "colab": {
          "base_uri": "https://localhost:8080/"
        },
        "id": "OzoXD2JUW0bc",
        "outputId": "e0d05a41-ae0f-4bbc-d720-094e5829761f"
      },
      "source": [
        "output_string = print_name('กิตติมา' , 'อุปสุข' , '623021040-9')\r\n",
        "print(output_string)"
      ],
      "execution_count": 3,
      "outputs": [
        {
          "output_type": "stream",
          "text": [
            " ชื่อ กิตติมา นามสกุล อุปสุข ID 623021040-9\n"
          ],
          "name": "stdout"
        }
      ]
    },
    {
      "cell_type": "markdown",
      "metadata": {
        "id": "NTVs0UZYXcVG"
      },
      "source": [
        "#### ฟังก์ชั่นไม่จำเป็นต้องมี Output"
      ]
    },
    {
      "cell_type": "code",
      "metadata": {
        "id": "C5FpytBlXVfF"
      },
      "source": [
        "def print_name2(surname,ID,name):\r\n",
        "    st = f'ชื่อ {name} นามสกุล {surname} รหัส {ID}'\r\n",
        "    print(st)"
      ],
      "execution_count": 4,
      "outputs": []
    },
    {
      "cell_type": "code",
      "metadata": {
        "colab": {
          "base_uri": "https://localhost:8080/",
          "height": 35
        },
        "id": "D2kenc9vX9ny",
        "outputId": "cb1910d7-3adb-4295-d566-7169a7d2906e"
      },
      "source": [
        "print_name('กิตติมา' , 'อุปสุข' , '623021040-9')"
      ],
      "execution_count": 5,
      "outputs": [
        {
          "output_type": "execute_result",
          "data": {
            "application/vnd.google.colaboratory.intrinsic+json": {
              "type": "string"
            },
            "text/plain": [
              "' ชื่อ กิตติมา นามสกุล อุปสุข ID 623021040-9'"
            ]
          },
          "metadata": {
            "tags": []
          },
          "execution_count": 5
        }
      ]
    },
    {
      "cell_type": "code",
      "metadata": {
        "colab": {
          "base_uri": "https://localhost:8080/"
        },
        "id": "wHNhil1wYHu5",
        "outputId": "c09f3262-9a8e-4b17-8b7b-54d5b2671ace"
      },
      "source": [
        "op2 = print_name2('กิตติมา' , 'อุปสุข' , '623021040-9')"
      ],
      "execution_count": 6,
      "outputs": [
        {
          "output_type": "stream",
          "text": [
            "ชื่อ 623021040-9 นามสกุล กิตติมา รหัส อุปสุข\n"
          ],
          "name": "stdout"
        }
      ]
    },
    {
      "cell_type": "code",
      "metadata": {
        "colab": {
          "base_uri": "https://localhost:8080/"
        },
        "id": "XVPewt_BYQ7N",
        "outputId": "6e729742-5207-42c2-e18c-f9088a4fd55f"
      },
      "source": [
        "print(op2)"
      ],
      "execution_count": 7,
      "outputs": [
        {
          "output_type": "stream",
          "text": [
            "None\n"
          ],
          "name": "stdout"
        }
      ]
    },
    {
      "cell_type": "code",
      "metadata": {
        "id": "vnkpoagqYTBI"
      },
      "source": [
        "def Pi():\r\n",
        "    return 3.14159265359"
      ],
      "execution_count": 8,
      "outputs": []
    },
    {
      "cell_type": "code",
      "metadata": {
        "colab": {
          "base_uri": "https://localhost:8080/"
        },
        "id": "JkiJ4PBjZPs8",
        "outputId": "d21036d3-5372-4a26-8b39-ff02a86243e1"
      },
      "source": [
        "#คำนวณพื้นที่วงกลมที่มีขนาดเส้นผ่านศูนย์กลางเท่ากับ 3 \r\n",
        "Pi()*(1.5**2)"
      ],
      "execution_count": 9,
      "outputs": [
        {
          "output_type": "execute_result",
          "data": {
            "text/plain": [
              "7.0685834705775"
            ]
          },
          "metadata": {
            "tags": []
          },
          "execution_count": 9
        }
      ]
    },
    {
      "cell_type": "code",
      "metadata": {
        "id": "S1GbQ7cDZiY5"
      },
      "source": [
        "def print_my_name():\r\n",
        "    print('ภิญญาดา เพ็ญสุข 623021052-2')"
      ],
      "execution_count": 10,
      "outputs": []
    },
    {
      "cell_type": "code",
      "metadata": {
        "colab": {
          "base_uri": "https://localhost:8080/"
        },
        "id": "dQECEYNAZyzp",
        "outputId": "4d4a4f52-3008-4484-9e1f-184025148ca6"
      },
      "source": [
        "print_my_name()"
      ],
      "execution_count": 11,
      "outputs": [
        {
          "output_type": "stream",
          "text": [
            "ภิญญาดา เพ็ญสุข 623021052-2\n"
          ],
          "name": "stdout"
        }
      ]
    },
    {
      "cell_type": "markdown",
      "metadata": {
        "id": "A-v0aWgPaEd0"
      },
      "source": [
        "### input ของ Function ใน Python มี 2 แบบคือ input ที่จำเป็นต้องใส่ กับ input ที่ไม่จำเป็นต้องใส่ (มีค่า default) เราต้องเรียง input ที่จำเป็นต้องใส่ขึ้นก่อน\r\n",
        "\r\n",
        "\r\n"
      ]
    },
    {
      "cell_type": "code",
      "metadata": {
        "id": "8Fh1Myb6Z2WM"
      },
      "source": [
        "def print_2lines_default(name,surname,ID,grade='F'):\r\n",
        "    st = f'ชื่อ {name} นามสกุล {surname} รหัส {ID}'\r\n",
        "    print(st)\r\n",
        "    st2=f'เกรดวิชา Multivariate >>> {grade}'\r\n",
        "    print(st2)"
      ],
      "execution_count": 12,
      "outputs": []
    },
    {
      "cell_type": "code",
      "metadata": {
        "colab": {
          "base_uri": "https://localhost:8080/"
        },
        "id": "5YeX2hscb643",
        "outputId": "a3d9ef4e-a1b9-4d5c-8524-803144c1594a"
      },
      "source": [
        "print_2lines_default('ภิญญาดา','เพ็ญสุข','623021052-2','A')"
      ],
      "execution_count": 13,
      "outputs": [
        {
          "output_type": "stream",
          "text": [
            "ชื่อ ภิญญาดา นามสกุล เพ็ญสุข รหัส 623021052-2\n",
            "เกรดวิชา Multivariate >>> A\n"
          ],
          "name": "stdout"
        }
      ]
    },
    {
      "cell_type": "markdown",
      "metadata": {
        "id": "XbOw30vCcTdS"
      },
      "source": [
        "#### เราสามารถเรียกฟังก์ชั่นโดยใช้ชื่อตัวแปรของฟังก์ชั่นช่วยได้"
      ]
    },
    {
      "cell_type": "code",
      "metadata": {
        "colab": {
          "base_uri": "https://localhost:8080/"
        },
        "id": "xEa1tR4ycNxb",
        "outputId": "19b48c42-ea51-47bd-c0b2-24c8e3df1f6a"
      },
      "source": [
        "print_name2(name='กิตติมา', surname='อุปสุข', ID='623021040-9')"
      ],
      "execution_count": 14,
      "outputs": [
        {
          "output_type": "stream",
          "text": [
            "ชื่อ กิตติมา นามสกุล อุปสุข รหัส 623021040-9\n"
          ],
          "name": "stdout"
        }
      ]
    },
    {
      "cell_type": "markdown",
      "metadata": {
        "id": "Ku06MDfJdC-o"
      },
      "source": [
        "HW3 ให้เขียน function คำนวณจำนวนวินาทีจาก เวลาต่อไปนี้\r\n",
        "\r\n",
        "'14-15-31'\r\n",
        "\r\n",
        "'13-00-01'\r\n",
        "\r\n",
        "'05-49-44'\r\n",
        "\r\n",
        "'00-00-16'\r\n",
        "\r\n",
        "และ print ให้สวยงาม\r\n"
      ]
    },
    {
      "cell_type": "code",
      "metadata": {
        "id": "_KNBWhaFdBzT"
      },
      "source": [
        "def tid(time):\r\n",
        "    tid = f'เวลาที่โจทย์กำหนดมาให้ คือ {time}'\r\n",
        "    timeee = time.split('-')\r\n",
        "    print(tid)\r\n",
        "    a = int (timeee[0])*3600\r\n",
        "    b = int (timeee[1])*60\r\n",
        "    c = int (timeee[2])\r\n",
        "    total = a+b+c\r\n",
        "    tid2=f'คำนวณเป็นวินาทีได้ {total} วินาที '\r\n",
        "    print(tid2)"
      ],
      "execution_count": 15,
      "outputs": []
    },
    {
      "cell_type": "code",
      "metadata": {
        "id": "6HsAApZCu2eW",
        "colab": {
          "base_uri": "https://localhost:8080/"
        },
        "outputId": "fff56e33-d365-48ec-f65c-f245381d5dda"
      },
      "source": [
        "tid('14-15-31')"
      ],
      "execution_count": 16,
      "outputs": [
        {
          "output_type": "stream",
          "text": [
            "เวลาที่โจทย์กำหนดมาให้ คือ 14-15-31\n",
            "คำนวณเป็นวินาทีได้ 51331 วินาที \n"
          ],
          "name": "stdout"
        }
      ]
    },
    {
      "cell_type": "code",
      "metadata": {
        "id": "MO9-tiNPvGiq",
        "colab": {
          "base_uri": "https://localhost:8080/"
        },
        "outputId": "87fc3dd4-0daf-427e-8450-9ee1131aea4b"
      },
      "source": [
        "tid('13-00-01')"
      ],
      "execution_count": 17,
      "outputs": [
        {
          "output_type": "stream",
          "text": [
            "เวลาที่โจทย์กำหนดมาให้ คือ 13-00-01\n",
            "คำนวณเป็นวินาทีได้ 46801 วินาที \n"
          ],
          "name": "stdout"
        }
      ]
    },
    {
      "cell_type": "code",
      "metadata": {
        "id": "3NlAi8u2wKDt",
        "colab": {
          "base_uri": "https://localhost:8080/"
        },
        "outputId": "31380eca-15d7-47e0-8769-db6b22891dbe"
      },
      "source": [
        "tid('05-49-44')"
      ],
      "execution_count": 18,
      "outputs": [
        {
          "output_type": "stream",
          "text": [
            "เวลาที่โจทย์กำหนดมาให้ คือ 05-49-44\n",
            "คำนวณเป็นวินาทีได้ 20984 วินาที \n"
          ],
          "name": "stdout"
        }
      ]
    },
    {
      "cell_type": "code",
      "metadata": {
        "id": "GlgJlA0NwQE3",
        "colab": {
          "base_uri": "https://localhost:8080/"
        },
        "outputId": "29baba1d-2d25-4a91-fb5e-0186f608e4b5"
      },
      "source": [
        "tid('00-00-16')"
      ],
      "execution_count": null,
      "outputs": [
        {
          "output_type": "stream",
          "text": [
            "เวลาที่โจทย์กำหนดมาให้ คือ 00-00-16\n",
            "คำนวณเป็นวินาทีได้ 16 วินาที \n"
          ],
          "name": "stdout"
        }
      ]
    },
    {
      "cell_type": "markdown",
      "metadata": {
        "id": "jF0uwAMkQGVv"
      },
      "source": [
        "Numpy -> package สำหรับจัดการกับ Array ที่เป็นตัวเลข (Matrix)\r\n",
        "\r\n",
        "Num + py -> Number-Numerical + python\r\n",
        "\r\n",
        "การใช้ package\r\n",
        "1. ```import``` ```ชื่อ package``` #เรียกใช้ package\r\n",
        "2. ```ชื่อ package``` . ```ชื่อฟังก์ชัน``` #เรียกใช้ function"
      ]
    },
    {
      "cell_type": "markdown",
      "metadata": {
        "id": "MCcJvbLsSJWk"
      },
      "source": [
        "data structure -> array"
      ]
    },
    {
      "cell_type": "markdown",
      "metadata": {
        "id": "ULBV9bgrUBzr"
      },
      "source": [
        "สร้าง Numpy array"
      ]
    },
    {
      "cell_type": "code",
      "metadata": {
        "id": "jXJ1nR5xUtYc"
      },
      "source": [
        "import numpy"
      ],
      "execution_count": 20,
      "outputs": []
    },
    {
      "cell_type": "code",
      "metadata": {
        "id": "nChxkamIQGF0",
        "outputId": "898c7990-7b18-449a-9f99-1033a62dc944",
        "colab": {
          "base_uri": "https://localhost:8080/"
        }
      },
      "source": [
        "mat_ex1 = numpy.array([[5.2,3.0,4.5],[9.1,0.1,0.3]])\r\n",
        "print(mat_ex1)"
      ],
      "execution_count": 21,
      "outputs": [
        {
          "output_type": "stream",
          "text": [
            "[[5.2 3.  4.5]\n",
            " [9.1 0.1 0.3]]\n"
          ],
          "name": "stdout"
        }
      ]
    },
    {
      "cell_type": "markdown",
      "metadata": {
        "id": "0NQdXQ5TUylR"
      },
      "source": [
        "ชี้ค่าใน numpy array"
      ]
    },
    {
      "cell_type": "code",
      "metadata": {
        "id": "QpkjAHIfUq7L",
        "outputId": "6121304a-5159-49ee-c3d9-b4cb8b1f698a",
        "colab": {
          "base_uri": "https://localhost:8080/"
        }
      },
      "source": [
        "mat_ex1[1,1] #[แถว,หลัก]  แถวแนวนอนเริ่มจากแถว0,หลักแนวตั้งเริ่มจากหลัก0 "
      ],
      "execution_count": 22,
      "outputs": [
        {
          "output_type": "execute_result",
          "data": {
            "text/plain": [
              "0.1"
            ]
          },
          "metadata": {
            "tags": []
          },
          "execution_count": 22
        }
      ]
    },
    {
      "cell_type": "markdown",
      "metadata": {
        "id": "l1cumFHzV1BN"
      },
      "source": [
        "ถ้าไม่มี numpy array "
      ]
    },
    {
      "cell_type": "code",
      "metadata": {
        "id": "jnjVp0kRVrfP",
        "outputId": "e6fb2200-e170-45d1-b729-7b1ce2deca9c",
        "colab": {
          "base_uri": "https://localhost:8080/"
        }
      },
      "source": [
        "list_ex1 = [[5.2,3.0,4.5],[9.1,0.1,0.3]]\r\n",
        "print(list_ex1)"
      ],
      "execution_count": 23,
      "outputs": [
        {
          "output_type": "stream",
          "text": [
            "[[5.2, 3.0, 4.5], [9.1, 0.1, 0.3]]\n"
          ],
          "name": "stdout"
        }
      ]
    },
    {
      "cell_type": "code",
      "metadata": {
        "id": "6lKkuRG2WDhQ",
        "outputId": "11fefe80-25e0-4009-fc6b-5ef5696f086e",
        "colab": {
          "base_uri": "https://localhost:8080/"
        }
      },
      "source": [
        "list_ex1[1][1]"
      ],
      "execution_count": 24,
      "outputs": [
        {
          "output_type": "execute_result",
          "data": {
            "text/plain": [
              "0.1"
            ]
          },
          "metadata": {
            "tags": []
          },
          "execution_count": 24
        }
      ]
    },
    {
      "cell_type": "code",
      "metadata": {
        "id": "TgzLuPRzXQjf",
        "outputId": "608e2500-7845-47f1-f770-7e1cf9f096b2",
        "colab": {
          "base_uri": "https://localhost:8080/"
        }
      },
      "source": [
        "print(list_ex1)\r\n",
        "a = list_ex1[1]\r\n",
        "print(a)\r\n",
        "print(a[1])"
      ],
      "execution_count": 25,
      "outputs": [
        {
          "output_type": "stream",
          "text": [
            "[[5.2, 3.0, 4.5], [9.1, 0.1, 0.3]]\n",
            "[9.1, 0.1, 0.3]\n",
            "0.1\n"
          ],
          "name": "stdout"
        }
      ]
    },
    {
      "cell_type": "markdown",
      "metadata": {
        "id": "kKtgb9LFX8db"
      },
      "source": [
        "Metrix Operations\r\n",
        "\r\n",
        "data 2 แบบ -> matrix (2D array), scalar(ตัวเลขค่าคงที่)"
      ]
    },
    {
      "cell_type": "code",
      "metadata": {
        "id": "zcK4HNWuXrfQ",
        "outputId": "a354cfc6-358e-44f3-f7cd-3681fb0db5cb",
        "colab": {
          "base_uri": "https://localhost:8080/"
        }
      },
      "source": [
        "mat_ex1 = numpy.array([[5.2,3.0,4.5],[9.1,0.1,0.3]])\r\n",
        "print(mat_ex1)\r\n",
        "mat_ex2 = numpy.array([[2,3.7,5.9],[91,1.5,7.3]])\r\n",
        "print(mat_ex2)"
      ],
      "execution_count": 26,
      "outputs": [
        {
          "output_type": "stream",
          "text": [
            "[[5.2 3.  4.5]\n",
            " [9.1 0.1 0.3]]\n",
            "[[ 2.   3.7  5.9]\n",
            " [91.   1.5  7.3]]\n"
          ],
          "name": "stdout"
        }
      ]
    },
    {
      "cell_type": "markdown",
      "metadata": {
        "id": "eghWHLY6ZMVe"
      },
      "source": [
        "##บวกกับลบ matrix เอาตัวเลขตำแหน่งเดียวกันมาบวกหรือลบกัน"
      ]
    },
    {
      "cell_type": "code",
      "metadata": {
        "id": "rbQyq74XZeZb",
        "outputId": "06ea21c3-3e78-44db-8f0d-c9df34681ee3",
        "colab": {
          "base_uri": "https://localhost:8080/"
        }
      },
      "source": [
        "mat_ex0 = numpy.array([[1,2],[3,4]])\r\n",
        "print(mat_ex0)"
      ],
      "execution_count": 30,
      "outputs": [
        {
          "output_type": "stream",
          "text": [
            "[[1 2]\n",
            " [3 4]]\n"
          ],
          "name": "stdout"
        }
      ]
    },
    {
      "cell_type": "code",
      "metadata": {
        "id": "2Vk4wSlrYn7A",
        "outputId": "bf40ca5b-d238-4372-b213-fb1bb3005cf8",
        "colab": {
          "base_uri": "https://localhost:8080/"
        }
      },
      "source": [
        "mat_ex3 = mat_ex1 + mat_ex2 \r\n",
        "print(mat_ex3)\r\n",
        "mat_ex4 = mat_ex1 - mat_ex2 \r\n",
        "print(mat_ex4)"
      ],
      "execution_count": 29,
      "outputs": [
        {
          "output_type": "stream",
          "text": [
            "[[  7.2   6.7  10.4]\n",
            " [100.1   1.6   7.6]]\n",
            "[[  3.2  -0.7  -1.4]\n",
            " [-81.9  -1.4  -7. ]]\n"
          ],
          "name": "stdout"
        }
      ]
    },
    {
      "cell_type": "code",
      "metadata": {
        "id": "cf11k4ljZJ9R",
        "outputId": "7f5c8532-046d-4530-cc85-49b6f520eb4c",
        "colab": {
          "base_uri": "https://localhost:8080/",
          "height": 166
        }
      },
      "source": [
        "mat_ex1 + mat_ex0 #ถ้าจำนวนเมทริกซ์ไม่เท่ากันจะไม่สามารถบวกหรือลบกันได้ "
      ],
      "execution_count": 31,
      "outputs": [
        {
          "output_type": "error",
          "ename": "ValueError",
          "evalue": "ignored",
          "traceback": [
            "\u001b[0;31m---------------------------------------------------------------------------\u001b[0m",
            "\u001b[0;31mValueError\u001b[0m                                Traceback (most recent call last)",
            "\u001b[0;32m<ipython-input-31-43d2f4491361>\u001b[0m in \u001b[0;36m<module>\u001b[0;34m()\u001b[0m\n\u001b[0;32m----> 1\u001b[0;31m \u001b[0mmat_ex1\u001b[0m \u001b[0;34m+\u001b[0m \u001b[0mmat_ex0\u001b[0m \u001b[0;31m#ถ้าจำนวนเมทริกซ์ไม่เท่ากันจะไม่สามารถบวกหรือลบกันได้\u001b[0m\u001b[0;34m\u001b[0m\u001b[0;34m\u001b[0m\u001b[0m\n\u001b[0m",
            "\u001b[0;31mValueError\u001b[0m: operands could not be broadcast together with shapes (2,3) (2,2) "
          ]
        }
      ]
    },
    {
      "cell_type": "markdown",
      "metadata": {
        "id": "4hWp096BaO4q"
      },
      "source": [
        "###การตรวจสอบขนาดของ matrix"
      ]
    },
    {
      "cell_type": "code",
      "metadata": {
        "id": "dq03yvpTaVW6",
        "outputId": "12067b99-27cf-48c7-a01b-761ca82ef053",
        "colab": {
          "base_uri": "https://localhost:8080/"
        }
      },
      "source": [
        "mat_ex3.shape"
      ],
      "execution_count": 32,
      "outputs": [
        {
          "output_type": "execute_result",
          "data": {
            "text/plain": [
              "(2, 3)"
            ]
          },
          "metadata": {
            "tags": []
          },
          "execution_count": 32
        }
      ]
    },
    {
      "cell_type": "code",
      "metadata": {
        "id": "SKjFv0qOady4",
        "outputId": "a04d1876-93fb-42c9-f44e-426ccc373f14",
        "colab": {
          "base_uri": "https://localhost:8080/"
        }
      },
      "source": [
        "mat_ex3.shape[0]"
      ],
      "execution_count": 33,
      "outputs": [
        {
          "output_type": "execute_result",
          "data": {
            "text/plain": [
              "2"
            ]
          },
          "metadata": {
            "tags": []
          },
          "execution_count": 33
        }
      ]
    },
    {
      "cell_type": "markdown",
      "metadata": {
        "id": "zOjFeY3Qa8jm"
      },
      "source": [
        "##การคูณ matrix"
      ]
    },
    {
      "cell_type": "code",
      "metadata": {
        "id": "5P8wvSg5b6LH",
        "outputId": "668d5e6e-1246-4d6a-f3ca-e51b3a2926a5",
        "colab": {
          "base_uri": "https://localhost:8080/"
        }
      },
      "source": [
        "print(mat_ex1)\r\n",
        "print(mat_ex2)"
      ],
      "execution_count": 35,
      "outputs": [
        {
          "output_type": "stream",
          "text": [
            "[[5.2 3.  4.5]\n",
            " [9.1 0.1 0.3]]\n",
            "[[ 2.   3.7  5.9]\n",
            " [91.   1.5  7.3]]\n"
          ],
          "name": "stdout"
        }
      ]
    },
    {
      "cell_type": "code",
      "metadata": {
        "id": "J-nGvYqJbGRg",
        "outputId": "8f515e4a-ca63-4b0f-ccf2-b974dda905b7",
        "colab": {
          "base_uri": "https://localhost:8080/"
        }
      },
      "source": [
        "mat_ex1 * mat_ex2"
      ],
      "execution_count": 34,
      "outputs": [
        {
          "output_type": "execute_result",
          "data": {
            "text/plain": [
              "array([[1.040e+01, 1.110e+01, 2.655e+01],\n",
              "       [8.281e+02, 1.500e-01, 2.190e+00]])"
            ]
          },
          "metadata": {
            "tags": []
          },
          "execution_count": 34
        }
      ]
    },
    {
      "cell_type": "code",
      "metadata": {
        "id": "wOSKL3t0cfpU",
        "outputId": "0e8ae6fa-91db-474c-9f31-66ae5dc892b3",
        "colab": {
          "base_uri": "https://localhost:8080/",
          "height": 201
        }
      },
      "source": [
        "numpy.dot(mat_ex1,mat_ex2) "
      ],
      "execution_count": 36,
      "outputs": [
        {
          "output_type": "error",
          "ename": "ValueError",
          "evalue": "ignored",
          "traceback": [
            "\u001b[0;31m---------------------------------------------------------------------------\u001b[0m",
            "\u001b[0;31mValueError\u001b[0m                                Traceback (most recent call last)",
            "\u001b[0;32m<ipython-input-36-87326e5d09ab>\u001b[0m in \u001b[0;36m<module>\u001b[0;34m()\u001b[0m\n\u001b[0;32m----> 1\u001b[0;31m \u001b[0mnumpy\u001b[0m\u001b[0;34m.\u001b[0m\u001b[0mdot\u001b[0m\u001b[0;34m(\u001b[0m\u001b[0mmat_ex1\u001b[0m\u001b[0;34m,\u001b[0m\u001b[0mmat_ex2\u001b[0m\u001b[0;34m)\u001b[0m\u001b[0;34m\u001b[0m\u001b[0;34m\u001b[0m\u001b[0m\n\u001b[0m",
            "\u001b[0;32m<__array_function__ internals>\u001b[0m in \u001b[0;36mdot\u001b[0;34m(*args, **kwargs)\u001b[0m\n",
            "\u001b[0;31mValueError\u001b[0m: shapes (2,3) and (2,3) not aligned: 3 (dim 1) != 2 (dim 0)"
          ]
        }
      ]
    },
    {
      "cell_type": "markdown",
      "metadata": {
        "id": "AdzFJu3Netgg"
      },
      "source": [
        "##การคูณ matrix (แถว*หลัก)\r\n",
        "\r\n",
        "(หลักของ Matrix ตัวข้างหน้า ต้องเท่ากับ แถวของ Matrix ตัวข้างหลัง)\r\n",
        "\r\n",
        "dot product ((AAA,x),(x,ZZZ)) = (AAA,ZZZ)"
      ]
    },
    {
      "cell_type": "code",
      "metadata": {
        "id": "kuxT2GFmfrPy",
        "outputId": "5991fa74-610b-4c9c-ea5e-c1d0f01e8edb",
        "colab": {
          "base_uri": "https://localhost:8080/"
        }
      },
      "source": [
        "print(mat_ex1)\r\n",
        "print(mat_ex1.shape)\r\n",
        "print(mat_ex2)\r\n",
        "print(mat_ex2.shape)"
      ],
      "execution_count": 37,
      "outputs": [
        {
          "output_type": "stream",
          "text": [
            "[[5.2 3.  4.5]\n",
            " [9.1 0.1 0.3]]\n",
            "(2, 3)\n",
            "[[ 2.   3.7  5.9]\n",
            " [91.   1.5  7.3]]\n",
            "(2, 3)\n"
          ],
          "name": "stdout"
        }
      ]
    },
    {
      "cell_type": "markdown",
      "metadata": {
        "id": "F0K5uW4ef91b"
      },
      "source": [
        "# Transpose กลับแถวเป็นหลักกลับหลักเป็นแถว\r\n",
        "\r\n",
        " ```matrix.T```  "
      ]
    },
    {
      "cell_type": "code",
      "metadata": {
        "id": "jDZchLn3hHyI",
        "outputId": "37497dc6-8fe8-457f-8b7f-e37eb2a5b024",
        "colab": {
          "base_uri": "https://localhost:8080/"
        }
      },
      "source": [
        "print(mat_ex2)\r\n",
        "print(mat_ex2.shape)"
      ],
      "execution_count": 39,
      "outputs": [
        {
          "output_type": "stream",
          "text": [
            "[[ 2.   3.7  5.9]\n",
            " [91.   1.5  7.3]]\n",
            "(2, 3)\n"
          ],
          "name": "stdout"
        }
      ]
    },
    {
      "cell_type": "code",
      "metadata": {
        "id": "7_X1CI5shJjj",
        "outputId": "9557631c-0410-4950-d56e-a4f2b31d392f",
        "colab": {
          "base_uri": "https://localhost:8080/"
        }
      },
      "source": [
        "print(mat_ex2.T)\r\n",
        "print(mat_ex2.T.shape)"
      ],
      "execution_count": 40,
      "outputs": [
        {
          "output_type": "stream",
          "text": [
            "[[ 2.  91. ]\n",
            " [ 3.7  1.5]\n",
            " [ 5.9  7.3]]\n",
            "(3, 2)\n"
          ],
          "name": "stdout"
        }
      ]
    },
    {
      "cell_type": "code",
      "metadata": {
        "id": "gEgYhnX7f9Co",
        "outputId": "d53610ac-ffb4-42fc-e2fe-333ce6caf94a",
        "colab": {
          "base_uri": "https://localhost:8080/"
        }
      },
      "source": [
        "numpy.dot(mat_ex1,mat_ex2.T) #(2,3).(3,2)"
      ],
      "execution_count": 38,
      "outputs": [
        {
          "output_type": "execute_result",
          "data": {
            "text/plain": [
              "array([[ 48.05, 510.55],\n",
              "       [ 20.34, 830.44]])"
            ]
          },
          "metadata": {
            "tags": []
          },
          "execution_count": 38
        }
      ]
    },
    {
      "cell_type": "code",
      "metadata": {
        "id": "YYJo6HJ6gfxa",
        "outputId": "5bbeecb3-92b6-4f5c-a892-9642c5caba1a",
        "colab": {
          "base_uri": "https://localhost:8080/"
        }
      },
      "source": [
        "numpy.dot(mat_ex1.T,mat_ex2) #(3,2).(2,3) = (3,3)"
      ],
      "execution_count": 42,
      "outputs": [
        {
          "output_type": "execute_result",
          "data": {
            "text/plain": [
              "array([[838.5 ,  32.89,  97.11],\n",
              "       [ 15.1 ,  11.25,  18.43],\n",
              "       [ 36.3 ,  17.1 ,  28.74]])"
            ]
          },
          "metadata": {
            "tags": []
          },
          "execution_count": 42
        }
      ]
    },
    {
      "cell_type": "markdown",
      "metadata": {
        "id": "91YyzW1Zi9vv"
      },
      "source": [
        "HW4 อธิบายการหา Determinant และ Inverse matrix (รูปและคำอธิบาย)\r\n"
      ]
    },
    {
      "cell_type": "markdown",
      "metadata": {
        "id": "7Yjy_mO8aAfD"
      },
      "source": [
        "~pandas~"
      ]
    },
    {
      "cell_type": "code",
      "metadata": {
        "id": "sKHIWh4pZ5Ae"
      },
      "source": [
        ""
      ],
      "execution_count": null,
      "outputs": []
    }
  ]
}