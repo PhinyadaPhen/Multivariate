{
  "nbformat": 4,
  "nbformat_minor": 0,
  "metadata": {
    "colab": {
      "name": "Function_Numpy_Pandas.ipynb",
      "provenance": [],
      "authorship_tag": "ABX9TyOd2R5VN5lz1tl+cmzVNqlc",
      "include_colab_link": true
    },
    "kernelspec": {
      "name": "python3",
      "display_name": "Python 3"
    }
  },
  "cells": [
    {
      "cell_type": "markdown",
      "metadata": {
        "id": "view-in-github",
        "colab_type": "text"
      },
      "source": [
        "<a href=\"https://colab.research.google.com/github/PhinyadaPhen/Multivariate/blob/main/Function_Numpy_Pandas.ipynb\" target=\"_parent\"><img src=\"https://colab.research.google.com/assets/colab-badge.svg\" alt=\"Open In Colab\"/></a>"
      ]
    },
    {
      "cell_type": "markdown",
      "metadata": {
        "id": "0H1u9r0ASMo4"
      },
      "source": [
        "#Funcion\r\n"
      ]
    },
    {
      "cell_type": "markdown",
      "metadata": {
        "id": "mro2G3RDY2nY"
      },
      "source": [
        "```python\r\n",
        "def functon_name(_Input_):\r\n",
        "    do_something with _Input_ to produce _Output_\r\n",
        "    return _Output_\r\n",
        "```"
      ]
    },
    {
      "cell_type": "markdown",
      "metadata": {
        "id": "BnR2fs_yTT-y"
      },
      "source": [
        "function มีส่วนสำคัญทั้งหมด 4 ส่วน \r\n",
        "\r\n",
        "\r\n",
        "1.   บอก Python ว่าเราจะเขียนฟังก์ชัน ชื่ออะไร def fuction_name(): (ขาดไม่ได้)\r\n",
        "2.   กำหนดตัวแปรที่จะเป็น input (ขาดได้)\r\n",
        "3.   ส่วนประมวลผล do_sth with Input to get Output (ขาดไม่ได้)\r\n",
        "4.   ส่วน Output return Output (ขาดได้)\r\n",
        "\r\n",
        "\r\n",
        "\r\n"
      ]
    },
    {
      "cell_type": "code",
      "metadata": {
        "id": "Ppa1xGFGSDs0"
      },
      "source": [
        "def print_name(name,surname,ID):\r\n",
        "    st = f' ชื่อ {name} นามสกุล {surname} ID {ID}' \r\n",
        "    return st"
      ],
      "execution_count": 2,
      "outputs": []
    },
    {
      "cell_type": "markdown",
      "metadata": {
        "id": "pkB3aHGSYXgv"
      },
      "source": [
        "####การเรียกใช้ฟังก์ชั่น"
      ]
    },
    {
      "cell_type": "code",
      "metadata": {
        "colab": {
          "base_uri": "https://localhost:8080/",
          "height": 35
        },
        "id": "CkflWVLxVEES",
        "outputId": "81d0dcfd-0d15-448b-ea72-7e7192df9eca"
      },
      "source": [
        "print_name('กิตติมา' , 'อุปสุข' , '623021040-9')"
      ],
      "execution_count": 3,
      "outputs": [
        {
          "output_type": "execute_result",
          "data": {
            "application/vnd.google.colaboratory.intrinsic+json": {
              "type": "string"
            },
            "text/plain": [
              "' ชื่อ กิตติมา นามสกุล อุปสุข ID 623021040-9'"
            ]
          },
          "metadata": {
            "tags": []
          },
          "execution_count": 3
        }
      ]
    },
    {
      "cell_type": "code",
      "metadata": {
        "colab": {
          "base_uri": "https://localhost:8080/"
        },
        "id": "OzoXD2JUW0bc",
        "outputId": "11cc8500-0d26-43c7-a908-2d87b97ff9c8"
      },
      "source": [
        "output_string = print_name('กิตติมา' , 'อุปสุข' , '623021040-9')\r\n",
        "print(output_string)"
      ],
      "execution_count": 5,
      "outputs": [
        {
          "output_type": "stream",
          "text": [
            " ชื่อ กิตติมา นามสกุล อุปสุข ID 623021040-9\n"
          ],
          "name": "stdout"
        }
      ]
    },
    {
      "cell_type": "markdown",
      "metadata": {
        "id": "NTVs0UZYXcVG"
      },
      "source": [
        "#### ฟังก์ชั่นไม่จำเป็นต้องมี Output"
      ]
    },
    {
      "cell_type": "code",
      "metadata": {
        "id": "C5FpytBlXVfF"
      },
      "source": [
        "def print_name2(surname,ID,name):\r\n",
        "    st = f'ชื่อ {name} นามสกุล {surname} รหัส {ID}'\r\n",
        "    print(st)"
      ],
      "execution_count": 6,
      "outputs": []
    },
    {
      "cell_type": "code",
      "metadata": {
        "colab": {
          "base_uri": "https://localhost:8080/",
          "height": 35
        },
        "id": "D2kenc9vX9ny",
        "outputId": "3d665f7e-c21b-4624-9897-b0b57c65feba"
      },
      "source": [
        "print_name('กิตติมา' , 'อุปสุข' , '623021040-9')"
      ],
      "execution_count": 7,
      "outputs": [
        {
          "output_type": "execute_result",
          "data": {
            "application/vnd.google.colaboratory.intrinsic+json": {
              "type": "string"
            },
            "text/plain": [
              "' ชื่อ กิตติมา นามสกุล อุปสุข ID 623021040-9'"
            ]
          },
          "metadata": {
            "tags": []
          },
          "execution_count": 7
        }
      ]
    },
    {
      "cell_type": "code",
      "metadata": {
        "colab": {
          "base_uri": "https://localhost:8080/"
        },
        "id": "wHNhil1wYHu5",
        "outputId": "437d4bdd-c5f2-44a3-e5e3-6cd0cc074a68"
      },
      "source": [
        "op2 = print_name2('กิตติมา' , 'อุปสุข' , '623021040-9')"
      ],
      "execution_count": 8,
      "outputs": [
        {
          "output_type": "stream",
          "text": [
            "ชื่อ 623021040-9 นามสกุล กิตติมา รหัส อุปสุข\n"
          ],
          "name": "stdout"
        }
      ]
    },
    {
      "cell_type": "code",
      "metadata": {
        "colab": {
          "base_uri": "https://localhost:8080/"
        },
        "id": "XVPewt_BYQ7N",
        "outputId": "2efff3a9-56cf-45d7-9281-35c3fd1f661f"
      },
      "source": [
        "print(op2)"
      ],
      "execution_count": 9,
      "outputs": [
        {
          "output_type": "stream",
          "text": [
            "None\n"
          ],
          "name": "stdout"
        }
      ]
    },
    {
      "cell_type": "code",
      "metadata": {
        "id": "vnkpoagqYTBI"
      },
      "source": [
        "def Pi():\r\n",
        "    return 3.14159265359"
      ],
      "execution_count": 11,
      "outputs": []
    },
    {
      "cell_type": "code",
      "metadata": {
        "colab": {
          "base_uri": "https://localhost:8080/"
        },
        "id": "JkiJ4PBjZPs8",
        "outputId": "309d0bf8-cee7-493e-cbac-46ee3c9397e4"
      },
      "source": [
        "#คำนวณพื้นที่วงกลมที่มีขนาดเส้นผ่านศูนย์กลางเท่ากับ 3 \r\n",
        "Pi()*(1.5**2)"
      ],
      "execution_count": 12,
      "outputs": [
        {
          "output_type": "execute_result",
          "data": {
            "text/plain": [
              "7.0685834705775"
            ]
          },
          "metadata": {
            "tags": []
          },
          "execution_count": 12
        }
      ]
    },
    {
      "cell_type": "code",
      "metadata": {
        "id": "S1GbQ7cDZiY5"
      },
      "source": [
        "def print_my_name():\r\n",
        "    print('ภิญญาดา เพ็ญสุข 623021052-2')"
      ],
      "execution_count": 13,
      "outputs": []
    },
    {
      "cell_type": "code",
      "metadata": {
        "colab": {
          "base_uri": "https://localhost:8080/"
        },
        "id": "dQECEYNAZyzp",
        "outputId": "e5348cad-eb40-4364-9ed8-35d359df1d8c"
      },
      "source": [
        "print_my_name()"
      ],
      "execution_count": 15,
      "outputs": [
        {
          "output_type": "stream",
          "text": [
            "ภิญญาดา เพ็ญสุข 623021052-2\n"
          ],
          "name": "stdout"
        }
      ]
    },
    {
      "cell_type": "markdown",
      "metadata": {
        "id": "A-v0aWgPaEd0"
      },
      "source": [
        "### input ของ Function ใน Python มี 2 แบบคือ input ที่จำเป็นต้องใส่ กับ input ที่ไม่จำเป็นต้องใส่ (มีค่า default) เราต้องเรียง input ที่จำเป็นต้องใส่ขึ้นก่อน\r\n",
        "\r\n",
        "\r\n"
      ]
    },
    {
      "cell_type": "code",
      "metadata": {
        "id": "8Fh1Myb6Z2WM"
      },
      "source": [
        "def print_2lines_default(name,surname,ID,grade='F'):\r\n",
        "    st = f'ชื่อ {name} นามสกุล {surname} รหัส {ID}'\r\n",
        "    print(st)\r\n",
        "    st2=f'เกรดวิชา Multivariate >>> {grade}'\r\n",
        "    print(st2)"
      ],
      "execution_count": 16,
      "outputs": []
    },
    {
      "cell_type": "code",
      "metadata": {
        "colab": {
          "base_uri": "https://localhost:8080/"
        },
        "id": "5YeX2hscb643",
        "outputId": "c92ed354-038f-4c79-a94b-c5e48043fde1"
      },
      "source": [
        "print_2lines_default('ภิญญาดา','เพ็ญสุข','623021052-2','A')"
      ],
      "execution_count": 18,
      "outputs": [
        {
          "output_type": "stream",
          "text": [
            "ชื่อ ภิญญาดา นามสกุล เพ็ญสุข รหัส 623021052-2\n",
            "เกรดวิชา Multivariate >>> A\n"
          ],
          "name": "stdout"
        }
      ]
    },
    {
      "cell_type": "markdown",
      "metadata": {
        "id": "XbOw30vCcTdS"
      },
      "source": [
        "#### เราสามารถเรียกฟังก์ชั่นโดยใช้ชื่อตัวแปรของฟังก์ชั่นช่วยได้"
      ]
    },
    {
      "cell_type": "code",
      "metadata": {
        "colab": {
          "base_uri": "https://localhost:8080/"
        },
        "id": "xEa1tR4ycNxb",
        "outputId": "571cb756-539c-4458-9634-3c101bf6a229"
      },
      "source": [
        "print_name2(name='กิตติมา', surname='อุปสุข', ID='623021040-9')"
      ],
      "execution_count": 19,
      "outputs": [
        {
          "output_type": "stream",
          "text": [
            "ชื่อ กิตติมา นามสกุล อุปสุข รหัส 623021040-9\n"
          ],
          "name": "stdout"
        }
      ]
    },
    {
      "cell_type": "markdown",
      "metadata": {
        "id": "Ku06MDfJdC-o"
      },
      "source": [
        "HW3 ให้เขียน function คำนวณจำนวนวินาทีจาก เวลาต่อไปนี้\r\n",
        "\r\n",
        "'14-15-31'\r\n",
        "\r\n",
        "'13-00-01'\r\n",
        "\r\n",
        "'05-49-44'\r\n",
        "\r\n",
        "'00-00-16'\r\n",
        "\r\n",
        "และ print ให้สวยงาม\r\n"
      ]
    },
    {
      "cell_type": "code",
      "metadata": {
        "id": "_KNBWhaFdBzT"
      },
      "source": [
        ""
      ],
      "execution_count": null,
      "outputs": []
    }
  ]
}