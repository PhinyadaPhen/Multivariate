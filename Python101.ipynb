{
  "nbformat": 4,
  "nbformat_minor": 0,
  "metadata": {
    "colab": {
      "name": "Python101.ipynb",
      "provenance": [],
      "authorship_tag": "ABX9TyOaFW5MCZPMUa4jJ8ArTZ28",
      "include_colab_link": true
    },
    "kernelspec": {
      "name": "python3",
      "display_name": "Python 3"
    }
  },
  "cells": [
    {
      "cell_type": "markdown",
      "metadata": {
        "id": "view-in-github",
        "colab_type": "text"
      },
      "source": [
        "<a href=\"https://colab.research.google.com/github/PhinyadaPhen/Multivariate/blob/main/Python101.ipynb\" target=\"_parent\"><img src=\"https://colab.research.google.com/assets/colab-badge.svg\" alt=\"Open In Colab\"/></a>"
      ]
    },
    {
      "cell_type": "markdown",
      "metadata": {
        "id": "rc8bCV5fLlpp"
      },
      "source": [
        "ตัวแปร variable"
      ]
    },
    {
      "cell_type": "markdown",
      "metadata": {
        "id": "MfoSnci9HJAO"
      },
      "source": [
        "หลักการตั้งชื่อตัวแปรเบื้องต้น\r\n",
        "\r\n",
        "  1.ตั้งชื่อให้สื่อว่าตัวแปรนี้คืออะไร เวลาเรากลับมาดูจะได้รู้ว่ามันคืออะไร\r\n",
        "\r\n",
        "  2.ในการกำหนดตัวแปรใช้ภาษาอังกฤษเท่านั้น เพราะถ้าใช้ไทย คอมอ่านไม่รู้เรื่อง \r\n",
        "\r\n",
        "  3.ใช้เลขได้แต่ห้ามขึ้นต้นด้วยตัวเลข เช่น A1 แต่ห้ามใช้ 1A\r\n",
        "\r\n",
        "  4.ห้ามเว้นวรรค ถ้าเว้นวรรคจะถือว่าเป็นคำใหม่ \r\n",
        "  \r\n",
        "  5.ตัวเล็กกับตัวใหญ่จะถือว่าเป็นคนละตัวแปร\r\n",
        "  "
      ]
    },
    {
      "cell_type": "markdown",
      "metadata": {
        "id": "b8olYWp2KK2C"
      },
      "source": [
        "มี output 2 mode : ออกหน้าจอ กับ เข้าไปเก็บในตัวแปร"
      ]
    },
    {
      "cell_type": "code",
      "metadata": {
        "colab": {
          "base_uri": "https://localhost:8080/"
        },
        "id": "l2PpPJN-LxRM",
        "outputId": "d3c7f303-1f42-4812-8344-245bbc8ebb97"
      },
      "source": [
        "3.14159  #hashtag หรือ sharp # คือ comment >>> อันนี้คือ output ที่ออกหน้าจอ"
      ],
      "execution_count": 60,
      "outputs": [
        {
          "output_type": "execute_result",
          "data": {
            "text/plain": [
              "3.14159"
            ]
          },
          "metadata": {
            "tags": []
          },
          "execution_count": 60
        }
      ]
    },
    {
      "cell_type": "code",
      "metadata": {
        "id": "UCSmfMoEJ45I"
      },
      "source": [
        "Pi=3.14  # อันนี้คือ output ที่เข้าไปอยู่ในตัวแปร"
      ],
      "execution_count": 61,
      "outputs": []
    },
    {
      "cell_type": "code",
      "metadata": {
        "colab": {
          "base_uri": "https://localhost:8080/"
        },
        "id": "IgsQ0yIqKmET",
        "outputId": "bc05e477-4574-4cb6-be17-525537040446"
      },
      "source": [
        "Pi "
      ],
      "execution_count": 62,
      "outputs": [
        {
          "output_type": "execute_result",
          "data": {
            "text/plain": [
              "3.14"
            ]
          },
          "metadata": {
            "tags": []
          },
          "execution_count": 62
        }
      ]
    },
    {
      "cell_type": "code",
      "metadata": {
        "colab": {
          "base_uri": "https://localhost:8080/"
        },
        "id": "bHdYef3WNH-I",
        "outputId": "62c854c0-7ab4-4f65-889e-5ee28f218563"
      },
      "source": [
        "a = 234567\r\n",
        "print(a)"
      ],
      "execution_count": 63,
      "outputs": [
        {
          "output_type": "stream",
          "text": [
            "234567\n"
          ],
          "name": "stdout"
        }
      ]
    },
    {
      "cell_type": "code",
      "metadata": {
        "colab": {
          "base_uri": "https://localhost:8080/"
        },
        "id": "Ec9aYtSNKvWg",
        "outputId": "75860c82-7a54-48a5-cee1-9243851d2ded"
      },
      "source": [
        "b = 3000\r\n",
        "print(b)"
      ],
      "execution_count": 64,
      "outputs": [
        {
          "output_type": "stream",
          "text": [
            "3000\n"
          ],
          "name": "stdout"
        }
      ]
    },
    {
      "cell_type": "markdown",
      "metadata": {
        "id": "jLI-DnvsLcE8"
      },
      "source": [
        "# ชนิดของตัวแปรที่เห็นบ่อยมี 3 ชนิด "
      ]
    },
    {
      "cell_type": "markdown",
      "metadata": {
        "id": "EIqDpbvKNYHI"
      },
      "source": [
        "### จำนวนเต็ม (integer,int)"
      ]
    },
    {
      "cell_type": "code",
      "metadata": {
        "colab": {
          "base_uri": "https://localhost:8080/"
        },
        "id": "PIUKvNuXK5KC",
        "outputId": "1a17e0d0-bb63-494c-fa53-9f3bd5fdb2f9"
      },
      "source": [
        "aaa = 1234\r\n",
        "print(aaa)"
      ],
      "execution_count": 65,
      "outputs": [
        {
          "output_type": "stream",
          "text": [
            "1234\n"
          ],
          "name": "stdout"
        }
      ]
    },
    {
      "cell_type": "markdown",
      "metadata": {
        "id": "y6xIWpWmNHbJ"
      },
      "source": [
        "### จำนวนจริง (float)"
      ]
    },
    {
      "cell_type": "code",
      "metadata": {
        "colab": {
          "base_uri": "https://localhost:8080/"
        },
        "id": "KYD42stlM5rv",
        "outputId": "49a3ffb0-568f-4926-a890-ae69068a102a"
      },
      "source": [
        "bbb = 11.\r\n",
        "print(bbb)"
      ],
      "execution_count": 66,
      "outputs": [
        {
          "output_type": "stream",
          "text": [
            "11.0\n"
          ],
          "name": "stdout"
        }
      ]
    },
    {
      "cell_type": "markdown",
      "metadata": {
        "id": "xPqjoBsgNk7b"
      },
      "source": [
        "### ตัวอักษร-ข้อความ (character และ text,string)"
      ]
    },
    {
      "cell_type": "code",
      "metadata": {
        "colab": {
          "base_uri": "https://localhost:8080/"
        },
        "id": "GULDSIMXNjrL",
        "outputId": "69c34f6e-4f16-4ce6-9ddb-98f9fa822b8f"
      },
      "source": [
        "ccc = '123456' # เราใช้ single quote ' หรือ double quote \" ล้อมรอบตัวหนังสือเพื่อระบุว่าเป็น character-string\r\n",
        "print(ccc)"
      ],
      "execution_count": 67,
      "outputs": [
        {
          "output_type": "stream",
          "text": [
            "123456\n"
          ],
          "name": "stdout"
        }
      ]
    },
    {
      "cell_type": "code",
      "metadata": {
        "colab": {
          "base_uri": "https://localhost:8080/"
        },
        "id": "2qcrpMyDOldR",
        "outputId": "68f574b9-1881-4bd0-f58d-f51e1580146d"
      },
      "source": [
        "aaa + bbb  # float + int = float"
      ],
      "execution_count": 68,
      "outputs": [
        {
          "output_type": "execute_result",
          "data": {
            "text/plain": [
              "1245.0"
            ]
          },
          "metadata": {
            "tags": []
          },
          "execution_count": 68
        }
      ]
    },
    {
      "cell_type": "markdown",
      "metadata": {
        "id": "8i-z9XM6QD6Q"
      },
      "source": [
        "# ขึ้น error แบบนี้แปลว่า มันไม่สามารถใช้ float + str ได้"
      ]
    },
    {
      "cell_type": "code",
      "metadata": {
        "colab": {
          "base_uri": "https://localhost:8080/",
          "height": 166
        },
        "id": "a3HSxG15OT2f",
        "outputId": "03f644b1-b4f4-44e3-a01f-f91e950d34fc"
      },
      "source": [
        "bbb + ccc "
      ],
      "execution_count": 69,
      "outputs": [
        {
          "output_type": "error",
          "ename": "TypeError",
          "evalue": "ignored",
          "traceback": [
            "\u001b[0;31m---------------------------------------------------------------------------\u001b[0m",
            "\u001b[0;31mTypeError\u001b[0m                                 Traceback (most recent call last)",
            "\u001b[0;32m<ipython-input-69-ffb90d253fd6>\u001b[0m in \u001b[0;36m<module>\u001b[0;34m()\u001b[0m\n\u001b[0;32m----> 1\u001b[0;31m \u001b[0mbbb\u001b[0m \u001b[0;34m+\u001b[0m \u001b[0mccc\u001b[0m\u001b[0;34m\u001b[0m\u001b[0;34m\u001b[0m\u001b[0m\n\u001b[0m",
            "\u001b[0;31mTypeError\u001b[0m: unsupported operand type(s) for +: 'float' and 'str'"
          ]
        }
      ]
    },
    {
      "cell_type": "code",
      "metadata": {
        "id": "x2wTZjtBOg0d"
      },
      "source": [
        "ddd = 'ภิญญาดา'\r\n",
        "print(ddd)"
      ],
      "execution_count": null,
      "outputs": []
    },
    {
      "cell_type": "markdown",
      "metadata": {
        "id": "A8x8BmADPf3i"
      },
      "source": [
        "# การเปลี่ยนชนิดของตัวแปร variable casting"
      ]
    },
    {
      "cell_type": "code",
      "metadata": {
        "id": "elLnQrp0PaGE",
        "outputId": "d3663a7d-50c1-4371-e0f8-ef03abe51104",
        "colab": {
          "base_uri": "https://localhost:8080/"
        }
      },
      "source": [
        "aaa + int(ccc) "
      ],
      "execution_count": 72,
      "outputs": [
        {
          "output_type": "execute_result",
          "data": {
            "text/plain": [
              "124690"
            ]
          },
          "metadata": {
            "tags": []
          },
          "execution_count": 72
        }
      ]
    },
    {
      "cell_type": "code",
      "metadata": {
        "id": "DdsgdkvhQNza",
        "outputId": "84ca6681-959f-439e-c410-22a2ada6b109",
        "colab": {
          "base_uri": "https://localhost:8080/"
        }
      },
      "source": [
        "aaa + float(ccc)"
      ],
      "execution_count": 73,
      "outputs": [
        {
          "output_type": "execute_result",
          "data": {
            "text/plain": [
              "124690.0"
            ]
          },
          "metadata": {
            "tags": []
          },
          "execution_count": 73
        }
      ]
    },
    {
      "cell_type": "code",
      "metadata": {
        "id": "qeliV2xzQTam",
        "outputId": "366b34c7-3bb9-4ab8-c9e1-3dc08660dc94",
        "colab": {
          "base_uri": "https://localhost:8080/",
          "height": 35
        }
      },
      "source": [
        "str(aaa)"
      ],
      "execution_count": 74,
      "outputs": [
        {
          "output_type": "execute_result",
          "data": {
            "application/vnd.google.colaboratory.intrinsic+json": {
              "type": "string"
            },
            "text/plain": [
              "'1234'"
            ]
          },
          "metadata": {
            "tags": []
          },
          "execution_count": 74
        }
      ]
    },
    {
      "cell_type": "markdown",
      "metadata": {
        "id": "NBdo7bVHW_rY"
      },
      "source": [
        "#  การดำเนินการ Operation (Operators +,-,/,%)"
      ]
    },
    {
      "cell_type": "code",
      "metadata": {
        "id": "9o88wTHZWqBN",
        "outputId": "749dd2f8-5eee-4705-c9ec-89cde49a0903",
        "colab": {
          "base_uri": "https://localhost:8080/"
        }
      },
      "source": [
        "ab=3\r\n",
        "print(ab)"
      ],
      "execution_count": 75,
      "outputs": [
        {
          "output_type": "stream",
          "text": [
            "3\n"
          ],
          "name": "stdout"
        }
      ]
    },
    {
      "cell_type": "code",
      "metadata": {
        "id": "BpfCcNjTYE3A",
        "outputId": "bc2ec42c-0936-4624-b469-2d537dcf0913",
        "colab": {
          "base_uri": "https://localhost:8080/"
        }
      },
      "source": [
        "cd=5\r\n",
        "print(cd)"
      ],
      "execution_count": 76,
      "outputs": [
        {
          "output_type": "stream",
          "text": [
            "5\n"
          ],
          "name": "stdout"
        }
      ]
    },
    {
      "cell_type": "code",
      "metadata": {
        "id": "1aUO8nvxYJ0P",
        "outputId": "0015ae1b-cca7-4403-d8a1-11d408e0e265",
        "colab": {
          "base_uri": "https://localhost:8080/"
        }
      },
      "source": [
        "ab+cd"
      ],
      "execution_count": 77,
      "outputs": [
        {
          "output_type": "execute_result",
          "data": {
            "text/plain": [
              "8"
            ]
          },
          "metadata": {
            "tags": []
          },
          "execution_count": 77
        }
      ]
    },
    {
      "cell_type": "code",
      "metadata": {
        "id": "mbIBXkZhYLy5",
        "outputId": "c92c5336-99a2-415e-a75d-3e999a2028e0",
        "colab": {
          "base_uri": "https://localhost:8080/"
        }
      },
      "source": [
        "aaa + bbb"
      ],
      "execution_count": 78,
      "outputs": [
        {
          "output_type": "execute_result",
          "data": {
            "text/plain": [
              "1245.0"
            ]
          },
          "metadata": {
            "tags": []
          },
          "execution_count": 78
        }
      ]
    },
    {
      "cell_type": "code",
      "metadata": {
        "id": "oWTVSfPUYnvD",
        "outputId": "7d23cdac-b4ab-43f7-93d4-24e07430c927",
        "colab": {
          "base_uri": "https://localhost:8080/"
        }
      },
      "source": [
        "aaa - bbb"
      ],
      "execution_count": 79,
      "outputs": [
        {
          "output_type": "execute_result",
          "data": {
            "text/plain": [
              "1223.0"
            ]
          },
          "metadata": {
            "tags": []
          },
          "execution_count": 79
        }
      ]
    },
    {
      "cell_type": "code",
      "metadata": {
        "id": "T3cIQqSFZFWf",
        "outputId": "47167265-b05b-46bb-a9be-2a1ae50e91d1",
        "colab": {
          "base_uri": "https://localhost:8080/"
        }
      },
      "source": [
        "abc= aaa*bbb\r\n",
        "print(abc)"
      ],
      "execution_count": 80,
      "outputs": [
        {
          "output_type": "stream",
          "text": [
            "13574.0\n"
          ],
          "name": "stdout"
        }
      ]
    },
    {
      "cell_type": "code",
      "metadata": {
        "id": "W0SL8Vy7ZNTR",
        "outputId": "9c478733-0be8-4954-fc09-88b8f9c301aa",
        "colab": {
          "base_uri": "https://localhost:8080/"
        }
      },
      "source": [
        "abc= int(ccc)\r\n",
        "print(abc)"
      ],
      "execution_count": 81,
      "outputs": [
        {
          "output_type": "stream",
          "text": [
            "123456\n"
          ],
          "name": "stdout"
        }
      ]
    },
    {
      "cell_type": "code",
      "metadata": {
        "id": "6rJ1ZVgpYpH7",
        "outputId": "8eb679d4-5e18-47ea-9694-aac75662bff7",
        "colab": {
          "base_uri": "https://localhost:8080/"
        }
      },
      "source": [
        "aaa / bbb"
      ],
      "execution_count": 82,
      "outputs": [
        {
          "output_type": "execute_result",
          "data": {
            "text/plain": [
              "112.18181818181819"
            ]
          },
          "metadata": {
            "tags": []
          },
          "execution_count": 82
        }
      ]
    },
    {
      "cell_type": "markdown",
      "metadata": {
        "id": "U2cyMByiY0BA"
      },
      "source": [
        "### % คือ Modulo"
      ]
    },
    {
      "cell_type": "code",
      "metadata": {
        "id": "MeTAncpgYsaH",
        "outputId": "d4db953d-cbd5-48e3-f2bc-b635c01be710",
        "colab": {
          "base_uri": "https://localhost:8080/"
        }
      },
      "source": [
        "aaa % bbb"
      ],
      "execution_count": 83,
      "outputs": [
        {
          "output_type": "execute_result",
          "data": {
            "text/plain": [
              "2.0"
            ]
          },
          "metadata": {
            "tags": []
          },
          "execution_count": 83
        }
      ]
    },
    {
      "cell_type": "code",
      "metadata": {
        "id": "_r3wqiq_YuSD",
        "outputId": "c7342680-5e7e-4f2f-9fb5-289de7f5ac9a",
        "colab": {
          "base_uri": "https://localhost:8080/"
        }
      },
      "source": [
        "4%3"
      ],
      "execution_count": 84,
      "outputs": [
        {
          "output_type": "execute_result",
          "data": {
            "text/plain": [
              "1"
            ]
          },
          "metadata": {
            "tags": []
          },
          "execution_count": 84
        }
      ]
    },
    {
      "cell_type": "code",
      "metadata": {
        "id": "iF8800Y5Zbr_",
        "outputId": "a21d3cec-521e-4efa-ac10-3bc494c202c6",
        "colab": {
          "base_uri": "https://localhost:8080/"
        }
      },
      "source": [
        "5%2"
      ],
      "execution_count": 85,
      "outputs": [
        {
          "output_type": "execute_result",
          "data": {
            "text/plain": [
              "1"
            ]
          },
          "metadata": {
            "tags": []
          },
          "execution_count": 85
        }
      ]
    },
    {
      "cell_type": "code",
      "metadata": {
        "id": "QjvmTGAEZdGG",
        "outputId": "49d8f9d8-2dbc-444f-8a8c-2387273e91da",
        "colab": {
          "base_uri": "https://localhost:8080/"
        }
      },
      "source": [
        "3%1"
      ],
      "execution_count": 86,
      "outputs": [
        {
          "output_type": "execute_result",
          "data": {
            "text/plain": [
              "0"
            ]
          },
          "metadata": {
            "tags": []
          },
          "execution_count": 86
        }
      ]
    },
    {
      "cell_type": "code",
      "metadata": {
        "id": "b2hj0pOuZf81",
        "outputId": "945eb6e7-5728-444d-f6a3-9d6d45a68abe",
        "colab": {
          "base_uri": "https://localhost:8080/"
        }
      },
      "source": [
        "5%3"
      ],
      "execution_count": 87,
      "outputs": [
        {
          "output_type": "execute_result",
          "data": {
            "text/plain": [
              "2"
            ]
          },
          "metadata": {
            "tags": []
          },
          "execution_count": 87
        }
      ]
    },
    {
      "cell_type": "markdown",
      "metadata": {
        "id": "tw3t21H6axY-"
      },
      "source": [
        "### คำสั่ง print แบบพิเศษ (การ format string)"
      ]
    },
    {
      "cell_type": "code",
      "metadata": {
        "id": "ow4f4En-ZjAO",
        "outputId": "e99c52b7-8419-4ee3-cef5-238416dd78cb",
        "colab": {
          "base_uri": "https://localhost:8080/"
        }
      },
      "source": [
        "print('ตัวแปร') #สิ่งที่อยู่ในวงเล็บคือ ตัวแปร และ string"
      ],
      "execution_count": 88,
      "outputs": [
        {
          "output_type": "stream",
          "text": [
            "ตัวแปร\n"
          ],
          "name": "stdout"
        }
      ]
    },
    {
      "cell_type": "code",
      "metadata": {
        "id": "ezWM2UF_bZ3H",
        "outputId": "4fe9cfc9-a8d9-4cde-a566-a8160220860e",
        "colab": {
          "base_uri": "https://localhost:8080/"
        }
      },
      "source": [
        "print(f'% คือการหารเอาเศษ เช่น 7%3 = {7%3}') # เพิ่ม f หน้า 'string' และใช้ {} ใส่ code"
      ],
      "execution_count": 89,
      "outputs": [
        {
          "output_type": "stream",
          "text": [
            "% คือการหารเอาเศษ เช่น 7%3 = 1\n"
          ],
          "name": "stdout"
        }
      ]
    },
    {
      "cell_type": "code",
      "metadata": {
        "id": "tgxYhKZPby1u",
        "outputId": "1123e5dd-5239-43bc-c11d-5d81cb6ae06e",
        "colab": {
          "base_uri": "https://localhost:8080/"
        }
      },
      "source": [
        "print(f'% คือการหารเอาเศษ เช่น 7%3 = {7%3} \\\\\r\n",
        "        แต่ \\n/ คือการหารปกติ เช่น 7/3 = {7/3} \\\\\r\n",
        "        และ \\n// คือการหารเอาส่วน เช่น 7//3 = {7//3} \\\\\r\n",
        "        หรือ \\nใช้ int() เพื่อหารเอาส่วน เช่น int(7/3) = {int(7/3)}') # \\n คือการขึ้นบรรทัดใหม่ \\\\ ใช้ในการตัด code แต่ code จะไม่เห็น\r\n",
        "      "
      ],
      "execution_count": 90,
      "outputs": [
        {
          "output_type": "stream",
          "text": [
            "% คือการหารเอาเศษ เช่น 7%3 = 1 \\        แต่ \n",
            "/ คือการหารปกติ เช่น 7/3 = 2.3333333333333335 \\        และ \n",
            "// คือการหารเอาส่วน เช่น 7//3 = 2 \\        หรือ \n",
            "ใช้ int() เพื่อหารเอาส่วน เช่น int(7/3) = 2\n"
          ],
          "name": "stdout"
        }
      ]
    },
    {
      "cell_type": "markdown",
      "metadata": {
        "id": "HpPTWsSihL0E"
      },
      "source": [
        "#DATA STRUCTURE (โครงสร้างข้อมูล)"
      ]
    },
    {
      "cell_type": "markdown",
      "metadata": {
        "id": "9tsAlfY4hfP5"
      },
      "source": [
        "### List คือ การเอาข้อมูลหลายๆตัวมาเรียงต่อกัน\r\n",
        "#### List สามารถสร้างได้ 2 แบบ ดังนี้"
      ]
    },
    {
      "cell_type": "markdown",
      "metadata": {
        "id": "DncUpMjlhjV6"
      },
      "source": [
        "### แบบที่ 1 > square brackets"
      ]
    },
    {
      "cell_type": "code",
      "metadata": {
        "id": "Ph1bDq9ehciC",
        "outputId": "1777f11e-c71a-4d7d-9776-62e1dc761025",
        "colab": {
          "base_uri": "https://localhost:8080/"
        }
      },
      "source": [
        "[111,'c','งง',aaa]"
      ],
      "execution_count": 91,
      "outputs": [
        {
          "output_type": "execute_result",
          "data": {
            "text/plain": [
              "[111, 'c', 'งง', 1234]"
            ]
          },
          "metadata": {
            "tags": []
          },
          "execution_count": 91
        }
      ]
    },
    {
      "cell_type": "code",
      "metadata": {
        "id": "Yy19JiRLhwMt",
        "outputId": "0cc2d6e4-8436-4d67-8546-87b61384a6c9",
        "colab": {
          "base_uri": "https://localhost:8080/"
        }
      },
      "source": [
        "list_a = []\r\n",
        "print(list_a)"
      ],
      "execution_count": 92,
      "outputs": [
        {
          "output_type": "stream",
          "text": [
            "[]\n"
          ],
          "name": "stdout"
        }
      ]
    },
    {
      "cell_type": "code",
      "metadata": {
        "id": "Br6PE0MaiAKd",
        "outputId": "cde55f0f-15f5-4aab-e8df-c07b3e550b05",
        "colab": {
          "base_uri": "https://localhost:8080/"
        }
      },
      "source": [
        "list_b = [1,3,5,7,'E']\r\n",
        "print(list_b) "
      ],
      "execution_count": 93,
      "outputs": [
        {
          "output_type": "stream",
          "text": [
            "[1, 3, 5, 7, 'E']\n"
          ],
          "name": "stdout"
        }
      ]
    },
    {
      "cell_type": "markdown",
      "metadata": {
        "id": "lfcj88eLiOCs"
      },
      "source": [
        "### ลำดับที่อยู่ใน list มีความสำคัญ (ลำดับใน list เริ่มจาก 0,1,2,...)"
      ]
    },
    {
      "cell_type": "code",
      "metadata": {
        "id": "eK7szxhYiL05",
        "outputId": "142f025e-f740-476a-aab0-9788da3dd6ea",
        "colab": {
          "base_uri": "https://localhost:8080/"
        }
      },
      "source": [
        "list_b[2]"
      ],
      "execution_count": 94,
      "outputs": [
        {
          "output_type": "execute_result",
          "data": {
            "text/plain": [
              "5"
            ]
          },
          "metadata": {
            "tags": []
          },
          "execution_count": 94
        }
      ]
    },
    {
      "cell_type": "code",
      "metadata": {
        "id": "xErljPUHijTr",
        "outputId": "5ea4fff1-0846-49e2-a635-918ebd298ad7",
        "colab": {
          "base_uri": "https://localhost:8080/",
          "height": 35
        }
      },
      "source": [
        "list_b[4]"
      ],
      "execution_count": 95,
      "outputs": [
        {
          "output_type": "execute_result",
          "data": {
            "application/vnd.google.colaboratory.intrinsic+json": {
              "type": "string"
            },
            "text/plain": [
              "'E'"
            ]
          },
          "metadata": {
            "tags": []
          },
          "execution_count": 95
        }
      ]
    },
    {
      "cell_type": "markdown",
      "metadata": {
        "id": "on1GAnyPitom"
      },
      "source": [
        "### แบบที่ 2 "
      ]
    },
    {
      "cell_type": "code",
      "metadata": {
        "id": "iX1OwHUfinsO",
        "outputId": "08b4cfd0-4260-4ee8-85ea-85d9366a35ff",
        "colab": {
          "base_uri": "https://localhost:8080/"
        }
      },
      "source": [
        "list_c = list()\r\n",
        "print(list_c)"
      ],
      "execution_count": 96,
      "outputs": [
        {
          "output_type": "stream",
          "text": [
            "[]\n"
          ],
          "name": "stdout"
        }
      ]
    },
    {
      "cell_type": "markdown",
      "metadata": {
        "id": "P3q6yrhsi7r9"
      },
      "source": [
        "# Append() เพิ่มสมาชิกใน list"
      ]
    },
    {
      "cell_type": "code",
      "metadata": {
        "id": "9umOmMYEi45G",
        "outputId": "e569840a-3f33-43fe-a089-960251335fb3",
        "colab": {
          "base_uri": "https://localhost:8080/"
        }
      },
      "source": [
        "list_b.append('V')\r\n",
        "print(list_b)"
      ],
      "execution_count": 97,
      "outputs": [
        {
          "output_type": "stream",
          "text": [
            "[1, 3, 5, 7, 'E', 'V']\n"
          ],
          "name": "stdout"
        }
      ]
    },
    {
      "cell_type": "markdown",
      "metadata": {
        "id": "nPIyCyUZky0a"
      },
      "source": [
        "0 คือสมาชิกตัวแรก , -1 คือสมาชิกตัวสุดท้าย"
      ]
    },
    {
      "cell_type": "markdown",
      "metadata": {
        "id": "slezsM8TkmU9"
      },
      "source": [
        "list_b[ ]  # ตัวที่อยู่ในวงเล็บหลังจากตัวแปร list เรียกว่า index ใช้สำหรับชี้ข้อมูลใน list (ชี้จากข้างหน้า,ชี้กจากข้างหลัง)"
      ]
    },
    {
      "cell_type": "code",
      "metadata": {
        "id": "p7uGAEobjcg4",
        "outputId": "92ed6179-4aae-4958-8728-ab8ccac02b10",
        "colab": {
          "base_uri": "https://localhost:8080/",
          "height": 35
        }
      },
      "source": [
        "list_b.pop()  ### ดึงสมาชิกที่สุดท้ายออกจาก list"
      ],
      "execution_count": 98,
      "outputs": [
        {
          "output_type": "execute_result",
          "data": {
            "application/vnd.google.colaboratory.intrinsic+json": {
              "type": "string"
            },
            "text/plain": [
              "'V'"
            ]
          },
          "metadata": {
            "tags": []
          },
          "execution_count": 98
        }
      ]
    },
    {
      "cell_type": "code",
      "metadata": {
        "id": "BolkTMdfjrLT",
        "outputId": "1911eee6-bfaa-401f-f65a-40eea70dd9b6",
        "colab": {
          "base_uri": "https://localhost:8080/"
        }
      },
      "source": [
        "list_b"
      ],
      "execution_count": 99,
      "outputs": [
        {
          "output_type": "execute_result",
          "data": {
            "text/plain": [
              "[1, 3, 5, 7, 'E']"
            ]
          },
          "metadata": {
            "tags": []
          },
          "execution_count": 99
        }
      ]
    },
    {
      "cell_type": "code",
      "metadata": {
        "id": "_948aaB8jwsB",
        "outputId": "4f2d6061-44b5-4737-a0ea-bbbe3dace4db",
        "colab": {
          "base_uri": "https://localhost:8080/"
        }
      },
      "source": [
        "list_b.append(list_a)\r\n",
        "print(list_b)"
      ],
      "execution_count": 100,
      "outputs": [
        {
          "output_type": "stream",
          "text": [
            "[1, 3, 5, 7, 'E', []]\n"
          ],
          "name": "stdout"
        }
      ]
    },
    {
      "cell_type": "code",
      "metadata": {
        "id": "kLElCkCXj1D7",
        "outputId": "cc51655c-4777-4502-b0e9-ed55fda05367",
        "colab": {
          "base_uri": "https://localhost:8080/"
        }
      },
      "source": [
        "list_b[-3]"
      ],
      "execution_count": 101,
      "outputs": [
        {
          "output_type": "execute_result",
          "data": {
            "text/plain": [
              "7"
            ]
          },
          "metadata": {
            "tags": []
          },
          "execution_count": 101
        }
      ]
    },
    {
      "cell_type": "markdown",
      "metadata": {
        "id": "Iu9lgGuClOSG"
      },
      "source": [
        "# String > list of charactors"
      ]
    },
    {
      "cell_type": "code",
      "metadata": {
        "id": "lNMP8gRNlCZU",
        "outputId": "53c18437-b666-4f00-d2d7-b02324ec198d",
        "colab": {
          "base_uri": "https://localhost:8080/"
        }
      },
      "source": [
        "t = 'python is easy'\r\n",
        "print(t)"
      ],
      "execution_count": 102,
      "outputs": [
        {
          "output_type": "stream",
          "text": [
            "python is easy\n"
          ],
          "name": "stdout"
        }
      ]
    },
    {
      "cell_type": "code",
      "metadata": {
        "id": "8lCQEtIFlefo",
        "outputId": "1dc44262-123a-4be2-ba25-f88926d34751",
        "colab": {
          "base_uri": "https://localhost:8080/",
          "height": 35
        }
      },
      "source": [
        "t[1]"
      ],
      "execution_count": 103,
      "outputs": [
        {
          "output_type": "execute_result",
          "data": {
            "application/vnd.google.colaboratory.intrinsic+json": {
              "type": "string"
            },
            "text/plain": [
              "'y'"
            ]
          },
          "metadata": {
            "tags": []
          },
          "execution_count": 103
        }
      ]
    },
    {
      "cell_type": "code",
      "metadata": {
        "id": "aN3z9koflhNJ",
        "outputId": "ad7315c5-9e17-4510-98bb-37aeac86f7a8",
        "colab": {
          "base_uri": "https://localhost:8080/",
          "height": 35
        }
      },
      "source": [
        "t[-5]"
      ],
      "execution_count": 104,
      "outputs": [
        {
          "output_type": "execute_result",
          "data": {
            "application/vnd.google.colaboratory.intrinsic+json": {
              "type": "string"
            },
            "text/plain": [
              "' '"
            ]
          },
          "metadata": {
            "tags": []
          },
          "execution_count": 104
        }
      ]
    },
    {
      "cell_type": "code",
      "metadata": {
        "id": "MA6-G6zRlkou",
        "outputId": "847fb173-fa5c-410b-ce75-26f4d17ee580",
        "colab": {
          "base_uri": "https://localhost:8080/",
          "height": 35
        }
      },
      "source": [
        "t[-4]"
      ],
      "execution_count": 105,
      "outputs": [
        {
          "output_type": "execute_result",
          "data": {
            "application/vnd.google.colaboratory.intrinsic+json": {
              "type": "string"
            },
            "text/plain": [
              "'e'"
            ]
          },
          "metadata": {
            "tags": []
          },
          "execution_count": 105
        }
      ]
    },
    {
      "cell_type": "code",
      "metadata": {
        "id": "1os1P5g6lmJ9",
        "outputId": "4a432b73-fb05-4092-ca52-99fc146330da",
        "colab": {
          "base_uri": "https://localhost:8080/",
          "height": 35
        }
      },
      "source": [
        "t[3]"
      ],
      "execution_count": 106,
      "outputs": [
        {
          "output_type": "execute_result",
          "data": {
            "application/vnd.google.colaboratory.intrinsic+json": {
              "type": "string"
            },
            "text/plain": [
              "'h'"
            ]
          },
          "metadata": {
            "tags": []
          },
          "execution_count": 106
        }
      ]
    },
    {
      "cell_type": "code",
      "metadata": {
        "id": "NXQMXuuxlqKQ",
        "outputId": "6c9105ea-c2f3-4d36-e184-d114095f18b7",
        "colab": {
          "base_uri": "https://localhost:8080/",
          "height": 35
        }
      },
      "source": [
        "t[0]"
      ],
      "execution_count": 107,
      "outputs": [
        {
          "output_type": "execute_result",
          "data": {
            "application/vnd.google.colaboratory.intrinsic+json": {
              "type": "string"
            },
            "text/plain": [
              "'p'"
            ]
          },
          "metadata": {
            "tags": []
          },
          "execution_count": 107
        }
      ]
    },
    {
      "cell_type": "markdown",
      "metadata": {
        "id": "RUfqhvSqltzc"
      },
      "source": [
        "# จบ 5 ม.ค 64"
      ]
    },
    {
      "cell_type": "markdown",
      "metadata": {
        "id": "KUHkglN9iMoG"
      },
      "source": [
        "## คาบ 3 วันที่ 11 มกราคม 2021"
      ]
    },
    {
      "cell_type": "code",
      "metadata": {
        "id": "LDR5khPblsQs",
        "colab": {
          "base_uri": "https://localhost:8080/"
        },
        "outputId": "0bd66952-d7b3-41b5-ee7d-f58b73e6aac3"
      },
      "source": [
        "len(t)"
      ],
      "execution_count": 135,
      "outputs": [
        {
          "output_type": "execute_result",
          "data": {
            "text/plain": [
              "14"
            ]
          },
          "metadata": {
            "tags": []
          },
          "execution_count": 135
        }
      ]
    },
    {
      "cell_type": "code",
      "metadata": {
        "colab": {
          "base_uri": "https://localhost:8080/"
        },
        "id": "YqMtRW_lip17",
        "outputId": "a399fccd-6757-4d68-a92a-69f52abaabdf"
      },
      "source": [
        "list_b"
      ],
      "execution_count": 136,
      "outputs": [
        {
          "output_type": "execute_result",
          "data": {
            "text/plain": [
              "[111, 'c', 'งง', 1234, 'python is easy']"
            ]
          },
          "metadata": {
            "tags": []
          },
          "execution_count": 136
        }
      ]
    },
    {
      "cell_type": "code",
      "metadata": {
        "colab": {
          "base_uri": "https://localhost:8080/"
        },
        "id": "6RILzQjslDt3",
        "outputId": "9ab6c8be-f316-4898-d5a3-6abd7d67aaea"
      },
      "source": [
        "len(list_b) # len คือคำสั่งตรวจสอบความยาวของ list (จำนวนสมาชิก)"
      ],
      "execution_count": 130,
      "outputs": [
        {
          "output_type": "execute_result",
          "data": {
            "text/plain": [
              "4"
            ]
          },
          "metadata": {
            "tags": []
          },
          "execution_count": 130
        }
      ]
    },
    {
      "cell_type": "code",
      "metadata": {
        "colab": {
          "base_uri": "https://localhost:8080/"
        },
        "id": "sq4HO1nGlQJx",
        "outputId": "ec0d4078-c4a5-472f-b940-9537687bd8ba"
      },
      "source": [
        "list_b.append(t)\r\n",
        "print(list_b)"
      ],
      "execution_count": 131,
      "outputs": [
        {
          "output_type": "stream",
          "text": [
            "[111, 'c', 'งง', 1234, 'python is easy']\n"
          ],
          "name": "stdout"
        }
      ]
    },
    {
      "cell_type": "markdown",
      "metadata": {
        "id": "-yKPM_BBlbT1"
      },
      "source": [
        "### ตัวที่อยู่ข้างใน [ ] เราเรียกว่า index (ตัวชี้)"
      ]
    },
    {
      "cell_type": "markdown",
      "metadata": {
        "id": "YWbYni0Nlx85"
      },
      "source": [
        "#### List slicing สามารถทำได้โดยใช้ colon:"
      ]
    },
    {
      "cell_type": "code",
      "metadata": {
        "colab": {
          "base_uri": "https://localhost:8080/",
          "height": 218
        },
        "id": "Gc4LCkEmlZOl",
        "outputId": "ddadb32d-6d3a-4895-a6c2-dad5880d2b3a"
      },
      "source": [
        "print(t)\r\n",
        "print(t[7:9])\r\n",
        "print(len(t[7:9]))"
      ],
      "execution_count": 152,
      "outputs": [
        {
          "output_type": "stream",
          "text": [
            "75600\n"
          ],
          "name": "stdout"
        },
        {
          "output_type": "error",
          "ename": "TypeError",
          "evalue": "ignored",
          "traceback": [
            "\u001b[0;31m---------------------------------------------------------------------------\u001b[0m",
            "\u001b[0;31mTypeError\u001b[0m                                 Traceback (most recent call last)",
            "\u001b[0;32m<ipython-input-152-83a421613eeb>\u001b[0m in \u001b[0;36m<module>\u001b[0;34m()\u001b[0m\n\u001b[1;32m      1\u001b[0m \u001b[0mprint\u001b[0m\u001b[0;34m(\u001b[0m\u001b[0mt\u001b[0m\u001b[0;34m)\u001b[0m\u001b[0;34m\u001b[0m\u001b[0;34m\u001b[0m\u001b[0m\n\u001b[0;32m----> 2\u001b[0;31m \u001b[0mprint\u001b[0m\u001b[0;34m(\u001b[0m\u001b[0mt\u001b[0m\u001b[0;34m[\u001b[0m\u001b[0;36m7\u001b[0m\u001b[0;34m:\u001b[0m\u001b[0;36m9\u001b[0m\u001b[0;34m]\u001b[0m\u001b[0;34m)\u001b[0m\u001b[0;34m\u001b[0m\u001b[0;34m\u001b[0m\u001b[0m\n\u001b[0m\u001b[1;32m      3\u001b[0m \u001b[0mprint\u001b[0m\u001b[0;34m(\u001b[0m\u001b[0mlen\u001b[0m\u001b[0;34m(\u001b[0m\u001b[0mt\u001b[0m\u001b[0;34m[\u001b[0m\u001b[0;36m7\u001b[0m\u001b[0;34m:\u001b[0m\u001b[0;36m9\u001b[0m\u001b[0;34m]\u001b[0m\u001b[0;34m)\u001b[0m\u001b[0;34m)\u001b[0m\u001b[0;34m\u001b[0m\u001b[0;34m\u001b[0m\u001b[0m\n",
            "\u001b[0;31mTypeError\u001b[0m: 'int' object is not subscriptable"
          ]
        }
      ]
    },
    {
      "cell_type": "code",
      "metadata": {
        "colab": {
          "base_uri": "https://localhost:8080/",
          "height": 35
        },
        "id": "SQaAHnp6nlG7",
        "outputId": "5edffe8f-05fa-4053-a5fc-793544733fac"
      },
      "source": [
        "t[0:14:2] # นอกจากเริ่มที่ตัวไหนจบที่ตัวไหน ถ้าเพิ่ม : เลขหลัง colon จะวิ่งไปทีละตัวหรือกระโดดไหม"
      ],
      "execution_count": 133,
      "outputs": [
        {
          "output_type": "execute_result",
          "data": {
            "application/vnd.google.colaboratory.intrinsic+json": {
              "type": "string"
            },
            "text/plain": [
              "'pto ses'"
            ]
          },
          "metadata": {
            "tags": []
          },
          "execution_count": 133
        }
      ]
    },
    {
      "cell_type": "code",
      "metadata": {
        "colab": {
          "base_uri": "https://localhost:8080/",
          "height": 35
        },
        "id": "DYvCtCMkoJi7",
        "outputId": "9a1dc70d-43ed-42d2-b18f-598cd8323beb"
      },
      "source": [
        "t[0:14:3]"
      ],
      "execution_count": 134,
      "outputs": [
        {
          "output_type": "execute_result",
          "data": {
            "application/vnd.google.colaboratory.intrinsic+json": {
              "type": "string"
            },
            "text/plain": [
              "'ph  s'"
            ]
          },
          "metadata": {
            "tags": []
          },
          "execution_count": 134
        }
      ]
    },
    {
      "cell_type": "markdown",
      "metadata": {
        "id": "CzNJq7t0oTa3"
      },
      "source": [
        "# Quiz\r\n",
        "ให้ใช้ list slicing เลือกมาเฉพาะเลขคู่"
      ]
    },
    {
      "cell_type": "code",
      "metadata": {
        "colab": {
          "base_uri": "https://localhost:8080/"
        },
        "id": "9Fofl3wcodrt",
        "outputId": "5e96870d-5567-48a4-c3b0-66280c2f4c4f"
      },
      "source": [
        "z = [1,2,3,4,5,6,7,8,9,10]\r\n",
        "print(z[1:10:2])"
      ],
      "execution_count": 115,
      "outputs": [
        {
          "output_type": "stream",
          "text": [
            "[2, 4, 6, 8, 10]\n"
          ],
          "name": "stdout"
        }
      ]
    },
    {
      "cell_type": "markdown",
      "metadata": {
        "id": "gjg-u0uKl95z"
      },
      "source": [
        "ถ้าเว้นว่างหน้า : หมายความว่า เริ่มตั้งแต่วันแรก\r\n",
        "\r\n",
        "ถ้าเว้นว่างหลัง : หมายความว่า ไปจนถึงตัวสุดท้าย"
      ]
    },
    {
      "cell_type": "code",
      "metadata": {
        "colab": {
          "base_uri": "https://localhost:8080/"
        },
        "id": "JUhcIrqJlwFL",
        "outputId": "777a394e-217d-4bc6-d4f1-eadbf6d9211c"
      },
      "source": [
        "print(t)\r\n",
        "print(t[:6])\r\n",
        "print(t[10:])\r\n",
        "print(t[-4:])\r\n",
        "print(t[:])"
      ],
      "execution_count": 116,
      "outputs": [
        {
          "output_type": "stream",
          "text": [
            "python is easy\n",
            "python\n",
            "easy\n",
            "easy\n",
            "python is easy\n"
          ],
          "name": "stdout"
        }
      ]
    },
    {
      "cell_type": "code",
      "metadata": {
        "colab": {
          "base_uri": "https://localhost:8080/"
        },
        "id": "U2aG4V5eqUxy",
        "outputId": "1e550f14-99da-4a2c-ce2b-91f4d1e5f2e4"
      },
      "source": [
        "print(z[::2])"
      ],
      "execution_count": 117,
      "outputs": [
        {
          "output_type": "stream",
          "text": [
            "[1, 3, 5, 7, 9]\n"
          ],
          "name": "stdout"
        }
      ]
    },
    {
      "cell_type": "markdown",
      "metadata": {
        "id": "zR1YtvbkpHVK"
      },
      "source": [
        "#### เราสามารถเอา list มาต่อกันได้ด้วย +"
      ]
    },
    {
      "cell_type": "code",
      "metadata": {
        "colab": {
          "base_uri": "https://localhost:8080/",
          "height": 35
        },
        "id": "U4pNEllenjx3",
        "outputId": "1ab3d565-541d-4682-c05b-e09b41dcea45"
      },
      "source": [
        "t + '??'"
      ],
      "execution_count": 118,
      "outputs": [
        {
          "output_type": "execute_result",
          "data": {
            "application/vnd.google.colaboratory.intrinsic+json": {
              "type": "string"
            },
            "text/plain": [
              "'python is easy??'"
            ]
          },
          "metadata": {
            "tags": []
          },
          "execution_count": 118
        }
      ]
    },
    {
      "cell_type": "code",
      "metadata": {
        "colab": {
          "base_uri": "https://localhost:8080/",
          "height": 166
        },
        "id": "8zgxkrOWr4m2",
        "outputId": "31b5bb34-b3e8-482d-fadb-3e617e675b31"
      },
      "source": [
        "t + list_b ## ไม่สามารถเอา list ปกติมาต่อกับ string ได้ จะทำให้ error"
      ],
      "execution_count": 119,
      "outputs": [
        {
          "output_type": "error",
          "ename": "TypeError",
          "evalue": "ignored",
          "traceback": [
            "\u001b[0;31m---------------------------------------------------------------------------\u001b[0m",
            "\u001b[0;31mTypeError\u001b[0m                                 Traceback (most recent call last)",
            "\u001b[0;32m<ipython-input-119-385e94520dd5>\u001b[0m in \u001b[0;36m<module>\u001b[0;34m()\u001b[0m\n\u001b[0;32m----> 1\u001b[0;31m \u001b[0mt\u001b[0m \u001b[0;34m+\u001b[0m \u001b[0mlist_b\u001b[0m \u001b[0;31m## ไม่สามารถเอา list ปกติมาต่อกับ string ได้ จะทำให้ error\u001b[0m\u001b[0;34m\u001b[0m\u001b[0;34m\u001b[0m\u001b[0m\n\u001b[0m",
            "\u001b[0;31mTypeError\u001b[0m: must be str, not list"
          ]
        }
      ]
    },
    {
      "cell_type": "code",
      "metadata": {
        "colab": {
          "base_uri": "https://localhost:8080/"
        },
        "id": "bzMdjFI2sEpc",
        "outputId": "6e4c8f56-e58a-4cd7-e512-743651ca65b3"
      },
      "source": [
        "print(list_a)\r\n",
        "print(list_b)\r\n",
        "print(list_b + list_a)"
      ],
      "execution_count": 120,
      "outputs": [
        {
          "output_type": "stream",
          "text": [
            "[]\n",
            "[1, 3, 5, 7, 'E', [], 'python is easy']\n",
            "[1, 3, 5, 7, 'E', [], 'python is easy']\n"
          ],
          "name": "stdout"
        }
      ]
    },
    {
      "cell_type": "code",
      "metadata": {
        "colab": {
          "base_uri": "https://localhost:8080/"
        },
        "id": "9AUrj4pSsLYU",
        "outputId": "c1d41d3a-0f2f-4a43-d9f1-56d4132c32b3"
      },
      "source": [
        "print(list_a)\r\n",
        "list_b = [111, 'c' , 'งง' , aaa]\r\n",
        "print(list_b)"
      ],
      "execution_count": 121,
      "outputs": [
        {
          "output_type": "stream",
          "text": [
            "[]\n",
            "[111, 'c', 'งง', 1234]\n"
          ],
          "name": "stdout"
        }
      ]
    },
    {
      "cell_type": "markdown",
      "metadata": {
        "id": "I0HHM801tydc"
      },
      "source": [
        "### การแบ่ง string ตามสัญลักษณ์ที่กำหนด -> split string"
      ]
    },
    {
      "cell_type": "code",
      "metadata": {
        "colab": {
          "base_uri": "https://localhost:8080/",
          "height": 35
        },
        "id": "rFnkZ4tItwGF",
        "outputId": "8b2f46b4-d037-40d3-b18f-1d14e5e5215c"
      },
      "source": [
        "t"
      ],
      "execution_count": 122,
      "outputs": [
        {
          "output_type": "execute_result",
          "data": {
            "application/vnd.google.colaboratory.intrinsic+json": {
              "type": "string"
            },
            "text/plain": [
              "'python is easy'"
            ]
          },
          "metadata": {
            "tags": []
          },
          "execution_count": 122
        }
      ]
    },
    {
      "cell_type": "code",
      "metadata": {
        "colab": {
          "base_uri": "https://localhost:8080/",
          "height": 166
        },
        "id": "iUTVA5Rit7yH",
        "outputId": "7d669e47-e472-40b2-faed-153361bc6c63"
      },
      "source": [
        "t.split(' ')"
      ],
      "execution_count": 151,
      "outputs": [
        {
          "output_type": "error",
          "ename": "AttributeError",
          "evalue": "ignored",
          "traceback": [
            "\u001b[0;31m---------------------------------------------------------------------------\u001b[0m",
            "\u001b[0;31mAttributeError\u001b[0m                            Traceback (most recent call last)",
            "\u001b[0;32m<ipython-input-151-d1df852b7917>\u001b[0m in \u001b[0;36m<module>\u001b[0;34m()\u001b[0m\n\u001b[0;32m----> 1\u001b[0;31m \u001b[0mt\u001b[0m\u001b[0;34m.\u001b[0m\u001b[0msplit\u001b[0m\u001b[0;34m(\u001b[0m\u001b[0;34m' '\u001b[0m\u001b[0;34m)\u001b[0m\u001b[0;34m\u001b[0m\u001b[0;34m\u001b[0m\u001b[0m\n\u001b[0m",
            "\u001b[0;31mAttributeError\u001b[0m: 'int' object has no attribute 'split'"
          ]
        }
      ]
    },
    {
      "cell_type": "code",
      "metadata": {
        "id": "JGYz6K1qt_ou"
      },
      "source": [
        "time = '12:30:15'"
      ],
      "execution_count": 124,
      "outputs": []
    },
    {
      "cell_type": "code",
      "metadata": {
        "colab": {
          "base_uri": "https://localhost:8080/"
        },
        "id": "zUemT9LZuFwb",
        "outputId": "da123ae7-0608-428d-a809-00704aa094ed"
      },
      "source": [
        "time.split(':')"
      ],
      "execution_count": 125,
      "outputs": [
        {
          "output_type": "execute_result",
          "data": {
            "text/plain": [
              "['12', '30', '15']"
            ]
          },
          "metadata": {
            "tags": []
          },
          "execution_count": 125
        }
      ]
    },
    {
      "cell_type": "code",
      "metadata": {
        "colab": {
          "base_uri": "https://localhost:8080/"
        },
        "id": "1FCgrLXmut-o",
        "outputId": "8ba2fbed-5961-49c8-f122-f0abe509f5ee"
      },
      "source": [
        "t_sp = t.split(' ')\r\n",
        "print(t_sp)"
      ],
      "execution_count": 126,
      "outputs": [
        {
          "output_type": "stream",
          "text": [
            "['python', 'is', 'easy']\n"
          ],
          "name": "stdout"
        }
      ]
    },
    {
      "cell_type": "code",
      "metadata": {
        "colab": {
          "base_uri": "https://localhost:8080/"
        },
        "id": "y8XsORvdu9U0",
        "outputId": "26faaa26-201f-4120-bf8c-d9c2bdf2affc"
      },
      "source": [
        "## วิธีรวมกลับ \r\n",
        "print(':'.join(t_sp))"
      ],
      "execution_count": 127,
      "outputs": [
        {
          "output_type": "stream",
          "text": [
            "python:is:easy\n"
          ],
          "name": "stdout"
        }
      ]
    },
    {
      "cell_type": "markdown",
      "metadata": {
        "id": "LrjJUCKkvwwB"
      },
      "source": [
        "### HW คำนวณเวลาเป็นวินาทีของเวลาต่อไปนี้โดยใช้คำสั่ง split() ช่วย (print ออกมาให้สวยงาม)\r\n",
        "\r\n",
        "12:30:15 = 45,015\r\n",
        "\r\n",
        "13:41:07 = 49,267\r\n",
        "\r\n",
        "12:53:15 = 46,395\r\n",
        "\r\n",
        "00:59:25 = 3,565\r\n",
        "\r\n",
        "11:11:11 = 40,271\r\n",
        "\r\n",
        "16:06:09 = 57,969\r\n",
        "\r\n",
        "21:12:30 = 76,350\r\n",
        "\r\n",
        "10:06:15 = 36,375\r\n",
        "\r\n",
        "ตัวอย่าง > 00:01:10 = 70 วินาที\r\n",
        "ตัวอย่าง > 01:00:01 = 3,601 วินาที"
      ]
    },
    {
      "cell_type": "code",
      "metadata": {
        "colab": {
          "base_uri": "https://localhost:8080/"
        },
        "id": "EZl8O5clvtfK",
        "outputId": "c9255d7b-5d82-477b-b36b-d7044795f372"
      },
      "source": [
        "q1 = '12:30:15'\r\n",
        "list_q1 = [12,30,15]\r\n",
        "a = list_q1[0]*3600\r\n",
        "b = list_q1[1]*60\r\n",
        "c = list_q1[2]\r\n",
        "x = a+b+c\r\n",
        "print(x)"
      ],
      "execution_count": 137,
      "outputs": [
        {
          "output_type": "stream",
          "text": [
            "45015\n"
          ],
          "name": "stdout"
        }
      ]
    },
    {
      "cell_type": "code",
      "metadata": {
        "id": "NIReUQAGs9AV",
        "colab": {
          "base_uri": "https://localhost:8080/"
        },
        "outputId": "88c86900-a78a-461b-970b-2fe9f051dc95"
      },
      "source": [
        "q2 = '13:41:7'\r\n",
        "list_q2 = [13,41,7]\r\n",
        "d = list_q2[0]*3600\r\n",
        "e = list_q2[1]*60\r\n",
        "f = list_q2[2]\r\n",
        "x = d+e+f\r\n",
        "print(x)"
      ],
      "execution_count": 138,
      "outputs": [
        {
          "output_type": "stream",
          "text": [
            "49267\n"
          ],
          "name": "stdout"
        }
      ]
    },
    {
      "cell_type": "code",
      "metadata": {
        "id": "WsEU7e_Mufnj",
        "colab": {
          "base_uri": "https://localhost:8080/"
        },
        "outputId": "ba1f0309-9a92-4ec9-f8d4-90882d0afb73"
      },
      "source": [
        "q3 = '12:53:15'\r\n",
        "list_q3 = [12,53,15]\r\n",
        "g = list_q3[0]*3600\r\n",
        "h = list_q3[1]*60\r\n",
        "i = list_q3[2]\r\n",
        "x = g+h+i\r\n",
        "print(x)"
      ],
      "execution_count": 139,
      "outputs": [
        {
          "output_type": "stream",
          "text": [
            "46395\n"
          ],
          "name": "stdout"
        }
      ]
    },
    {
      "cell_type": "code",
      "metadata": {
        "id": "PbPPn4hGxbtV",
        "colab": {
          "base_uri": "https://localhost:8080/"
        },
        "outputId": "97e92473-c783-4f24-a018-e1d210a111df"
      },
      "source": [
        "q4 = '00:59:25'\r\n",
        "list_q4 = [00,59,25]\r\n",
        "j = list_q4[0]*3600\r\n",
        "k = list_q4[1]*60\r\n",
        "l = list_q4[2]\r\n",
        "x = j+k+l\r\n",
        "print(x)"
      ],
      "execution_count": 140,
      "outputs": [
        {
          "output_type": "stream",
          "text": [
            "3565\n"
          ],
          "name": "stdout"
        }
      ]
    },
    {
      "cell_type": "code",
      "metadata": {
        "id": "ue_i9AiVxsHA",
        "colab": {
          "base_uri": "https://localhost:8080/"
        },
        "outputId": "a556a31c-2f14-44bc-dcc2-6f6f3fab7efa"
      },
      "source": [
        "q5 = '11:11:11'\r\n",
        "list_q5 = [11,11,11]\r\n",
        "m = list_q5[0]*3600\r\n",
        "n = list_q5[1]*60\r\n",
        "o = list_q5[2]\r\n",
        "x = m+n+o\r\n",
        "print(x)"
      ],
      "execution_count": 141,
      "outputs": [
        {
          "output_type": "stream",
          "text": [
            "40271\n"
          ],
          "name": "stdout"
        }
      ]
    },
    {
      "cell_type": "code",
      "metadata": {
        "id": "P3FOjRM1yRDr",
        "colab": {
          "base_uri": "https://localhost:8080/"
        },
        "outputId": "cdc5e827-aa20-402e-fdfc-15bfd8e536bf"
      },
      "source": [
        "q6 = '16:6:9'\r\n",
        "list_q6 = [16,6,9]\r\n",
        "p = list_q6[0]*3600\r\n",
        "q = list_q6[1]*60\r\n",
        "r = list_q6[2]\r\n",
        "x = p+q+r\r\n",
        "print(x)"
      ],
      "execution_count": 142,
      "outputs": [
        {
          "output_type": "stream",
          "text": [
            "57969\n"
          ],
          "name": "stdout"
        }
      ]
    },
    {
      "cell_type": "code",
      "metadata": {
        "id": "2HN20g-zyfGk",
        "colab": {
          "base_uri": "https://localhost:8080/"
        },
        "outputId": "d6f4c141-f5e1-493f-b7f4-2b01618b0537"
      },
      "source": [
        "q7 = '21:12:30'\r\n",
        "list_q7 = [21,12,30]\r\n",
        "t = list_q7[0]*3600\r\n",
        "u = list_q7[1]*60\r\n",
        "v = list_q7[2]\r\n",
        "x = t+u+v\r\n",
        "print(x)"
      ],
      "execution_count": 143,
      "outputs": [
        {
          "output_type": "stream",
          "text": [
            "76350\n"
          ],
          "name": "stdout"
        }
      ]
    },
    {
      "cell_type": "code",
      "metadata": {
        "id": "ScVvt-ZQywIo",
        "colab": {
          "base_uri": "https://localhost:8080/"
        },
        "outputId": "9a739d9a-6817-44e9-9051-0640edfe9c08"
      },
      "source": [
        "q8 = '10:6:15'\r\n",
        "list_q8 = [10,6,15]\r\n",
        "y = list_q8[0]*3600\r\n",
        "z = list_q8[1]*60\r\n",
        "a = list_q8[2]\r\n",
        "x = y+z+a\r\n",
        "print(x)"
      ],
      "execution_count": 144,
      "outputs": [
        {
          "output_type": "stream",
          "text": [
            "36375\n"
          ],
          "name": "stdout"
        }
      ]
    },
    {
      "cell_type": "markdown",
      "metadata": {
        "id": "V8TZYmqUOKze"
      },
      "source": [
        "เฉลยจากอาจารย์\r\n"
      ]
    },
    {
      "cell_type": "code",
      "metadata": {
        "id": "CUcOLDkhOJpt"
      },
      "source": [
        "q1= '12:30:15'"
      ],
      "execution_count": 145,
      "outputs": []
    },
    {
      "cell_type": "code",
      "metadata": {
        "id": "xlnT2rbzOhmH",
        "outputId": "b23870f7-e430-4016-ddfc-eece3f1aa283",
        "colab": {
          "base_uri": "https://localhost:8080/"
        }
      },
      "source": [
        "q1_sp = q1.split(':')\r\n",
        "print(q1_sp)"
      ],
      "execution_count": 146,
      "outputs": [
        {
          "output_type": "stream",
          "text": [
            "['12', '30', '15']\n"
          ],
          "name": "stdout"
        }
      ]
    },
    {
      "cell_type": "code",
      "metadata": {
        "id": "MX3B2m_0Os6w",
        "outputId": "8a9607c9-c162-45dc-9d6a-6f37cc0285ac",
        "colab": {
          "base_uri": "https://localhost:8080/"
        }
      },
      "source": [
        "answer1 = int(q1_sp[0])*3600 + int(q1_sp[1])*60 + int(q1_sp[2])\r\n",
        "print(answer1)"
      ],
      "execution_count": 158,
      "outputs": [
        {
          "output_type": "stream",
          "text": [
            "45015\n"
          ],
          "name": "stdout"
        }
      ]
    },
    {
      "cell_type": "code",
      "metadata": {
        "id": "VofuLexOPTKj",
        "outputId": "d749d0dd-ed07-4234-83bd-8788c1547289",
        "colab": {
          "base_uri": "https://localhost:8080/"
        }
      },
      "source": [
        "print(f'เวลา {q1} คำนวณเป็นจำนวนวินาทีได้เท่ากับ {answer1}')"
      ],
      "execution_count": 160,
      "outputs": [
        {
          "output_type": "stream",
          "text": [
            "เวลา 12:30:15 คำนวณเป็นจำนวนวินาทีได้เท่ากับ 45015\n"
          ],
          "name": "stdout"
        }
      ]
    },
    {
      "cell_type": "code",
      "metadata": {
        "id": "U5iZ23-6RrNa",
        "outputId": "949b247c-286f-4c3f-a5c4-e4e056cecb69",
        "colab": {
          "base_uri": "https://localhost:8080/"
        }
      },
      "source": [
        "q1 = '12:30:15'\r\n",
        "q1_sp = q1.split(':')\r\n",
        "answer1 = int(q1_sp[0])*3600 + int(q1_sp[1])*60 + int(q1_sp[2])\r\n",
        "print(f'เวลา {q1} คำนวณเป็นจำนวนวินาทีได้เท่ากับ {answer1}')"
      ],
      "execution_count": 162,
      "outputs": [
        {
          "output_type": "stream",
          "text": [
            "เวลา 12:30:15 คำนวณเป็นจำนวนวินาทีได้เท่ากับ 45015\n"
          ],
          "name": "stdout"
        }
      ]
    },
    {
      "cell_type": "markdown",
      "metadata": {
        "id": "R8GdQYf7zL6Z"
      },
      "source": [
        "# จบ 12 มค 2564"
      ]
    },
    {
      "cell_type": "code",
      "metadata": {
        "id": "JzjyzersTHRR"
      },
      "source": [
        ""
      ],
      "execution_count": null,
      "outputs": []
    }
  ]
}