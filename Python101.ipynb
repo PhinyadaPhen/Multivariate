{
  "nbformat": 4,
  "nbformat_minor": 0,
  "metadata": {
    "colab": {
      "name": "Python101.ipynb",
      "provenance": [],
      "authorship_tag": "ABX9TyOTsffaXkmmacvzld8DOMNl",
      "include_colab_link": true
    },
    "kernelspec": {
      "name": "python3",
      "display_name": "Python 3"
    }
  },
  "cells": [
    {
      "cell_type": "markdown",
      "metadata": {
        "id": "view-in-github",
        "colab_type": "text"
      },
      "source": [
        "<a href=\"https://colab.research.google.com/github/PhinyadaPhen/Multivariate/blob/main/Python101.ipynb\" target=\"_parent\"><img src=\"https://colab.research.google.com/assets/colab-badge.svg\" alt=\"Open In Colab\"/></a>"
      ]
    },
    {
      "cell_type": "markdown",
      "metadata": {
        "id": "rc8bCV5fLlpp"
      },
      "source": [
        "ตัวแปร variable"
      ]
    },
    {
      "cell_type": "markdown",
      "metadata": {
        "id": "MfoSnci9HJAO"
      },
      "source": [
        "หลักการตั้งชื่อตัวแปรเบื้องต้น\r\n",
        "\r\n",
        "  1.ตั้งชื่อให้สื่อว่าตัวแปรนี้คืออะไร เวลาเรากลับมาดูจะได้รู้ว่ามันคืออะไร\r\n",
        "\r\n",
        "  2.ในการกำหนดตัวแปรใช้ภาษาอังกฤษเท่านั้น เพราะถ้าใช้ไทย คอมอ่านไม่รู้เรื่อง \r\n",
        "\r\n",
        "  3.ใช้เลขได้แต่ห้ามขึ้นต้นด้วยตัวเลข เช่น A1 แต่ห้ามใช้ 1A\r\n",
        "\r\n",
        "  4.ห้ามเว้นวรรค ถ้าเว้นวรรคจะถือว่าเป็นคำใหม่ \r\n",
        "  \r\n",
        "  5.ตัวเล็กกับตัวใหญ่จะถือว่าเป็นคนละตัวแปร\r\n",
        "  "
      ]
    },
    {
      "cell_type": "markdown",
      "metadata": {
        "id": "b8olYWp2KK2C"
      },
      "source": [
        "มี output 2 mode : ออกหน้าจอ กับ เข้าไปเก็บในตัวแปร"
      ]
    },
    {
      "cell_type": "code",
      "metadata": {
        "colab": {
          "base_uri": "https://localhost:8080/"
        },
        "id": "l2PpPJN-LxRM",
        "outputId": "922b7030-71ec-4841-870f-109fb815f3e4"
      },
      "source": [
        "3.14159  #hashtag หรือ sharp # คือ comment >>> อันนี้คือ output ที่ออกหน้าจอ"
      ],
      "execution_count": 62,
      "outputs": [
        {
          "output_type": "execute_result",
          "data": {
            "text/plain": [
              "3.14159"
            ]
          },
          "metadata": {
            "tags": []
          },
          "execution_count": 62
        }
      ]
    },
    {
      "cell_type": "code",
      "metadata": {
        "id": "UCSmfMoEJ45I"
      },
      "source": [
        "Pi=3.14  # อันนี้คือ output ที่เข้าไปอยู่ในตัวแปร"
      ],
      "execution_count": 63,
      "outputs": []
    },
    {
      "cell_type": "code",
      "metadata": {
        "colab": {
          "base_uri": "https://localhost:8080/"
        },
        "id": "IgsQ0yIqKmET",
        "outputId": "0bdfd563-b248-4748-ba96-da1c2277bdcc"
      },
      "source": [
        "Pi "
      ],
      "execution_count": 64,
      "outputs": [
        {
          "output_type": "execute_result",
          "data": {
            "text/plain": [
              "3.14"
            ]
          },
          "metadata": {
            "tags": []
          },
          "execution_count": 64
        }
      ]
    },
    {
      "cell_type": "code",
      "metadata": {
        "colab": {
          "base_uri": "https://localhost:8080/"
        },
        "id": "bHdYef3WNH-I",
        "outputId": "115aa55c-44b0-47d9-88cf-97465c38096b"
      },
      "source": [
        "a = 234567\r\n",
        "print(a)"
      ],
      "execution_count": 65,
      "outputs": [
        {
          "output_type": "stream",
          "text": [
            "234567\n"
          ],
          "name": "stdout"
        }
      ]
    },
    {
      "cell_type": "code",
      "metadata": {
        "colab": {
          "base_uri": "https://localhost:8080/"
        },
        "id": "Ec9aYtSNKvWg",
        "outputId": "6b821b1b-b827-44f5-e22c-f1d7e5d28900"
      },
      "source": [
        "b = 3000\r\n",
        "print(b)"
      ],
      "execution_count": 66,
      "outputs": [
        {
          "output_type": "stream",
          "text": [
            "3000\n"
          ],
          "name": "stdout"
        }
      ]
    },
    {
      "cell_type": "markdown",
      "metadata": {
        "id": "jLI-DnvsLcE8"
      },
      "source": [
        "# ชนิดของตัวแปรที่เห็นบ่อยมี 3 ชนิด "
      ]
    },
    {
      "cell_type": "markdown",
      "metadata": {
        "id": "EIqDpbvKNYHI"
      },
      "source": [
        "### จำนวนเต็ม (integer,int)"
      ]
    },
    {
      "cell_type": "code",
      "metadata": {
        "colab": {
          "base_uri": "https://localhost:8080/"
        },
        "id": "PIUKvNuXK5KC",
        "outputId": "8ee80862-3725-4ae5-b6e1-65c9fa0be1ec"
      },
      "source": [
        "aaa = 1234\r\n",
        "print(aaa)"
      ],
      "execution_count": 67,
      "outputs": [
        {
          "output_type": "stream",
          "text": [
            "1234\n"
          ],
          "name": "stdout"
        }
      ]
    },
    {
      "cell_type": "markdown",
      "metadata": {
        "id": "y6xIWpWmNHbJ"
      },
      "source": [
        "### จำนวนจริง (float)"
      ]
    },
    {
      "cell_type": "code",
      "metadata": {
        "colab": {
          "base_uri": "https://localhost:8080/"
        },
        "id": "KYD42stlM5rv",
        "outputId": "0a2a1ac4-2594-4a14-d495-da72035891a0"
      },
      "source": [
        "bbb = 11.\r\n",
        "print(bbb)"
      ],
      "execution_count": 68,
      "outputs": [
        {
          "output_type": "stream",
          "text": [
            "11.0\n"
          ],
          "name": "stdout"
        }
      ]
    },
    {
      "cell_type": "markdown",
      "metadata": {
        "id": "xPqjoBsgNk7b"
      },
      "source": [
        "### ตัวอักษร-ข้อความ (character และ text,string)"
      ]
    },
    {
      "cell_type": "code",
      "metadata": {
        "colab": {
          "base_uri": "https://localhost:8080/"
        },
        "id": "GULDSIMXNjrL",
        "outputId": "5251c410-2798-4e8c-bb69-0c30635c2ee3"
      },
      "source": [
        "ccc = '123456' # เราใช้ single quote ' หรือ double quote \" ล้อมรอบตัวหนังสือเพื่อระบุว่าเป็น character-string\r\n",
        "print(ccc)"
      ],
      "execution_count": 69,
      "outputs": [
        {
          "output_type": "stream",
          "text": [
            "123456\n"
          ],
          "name": "stdout"
        }
      ]
    },
    {
      "cell_type": "code",
      "metadata": {
        "colab": {
          "base_uri": "https://localhost:8080/"
        },
        "id": "2qcrpMyDOldR",
        "outputId": "da6f7c8e-2ddc-445a-d415-0f08c0f585a4"
      },
      "source": [
        "aaa + bbb  # float + int = float"
      ],
      "execution_count": 70,
      "outputs": [
        {
          "output_type": "execute_result",
          "data": {
            "text/plain": [
              "1245.0"
            ]
          },
          "metadata": {
            "tags": []
          },
          "execution_count": 70
        }
      ]
    },
    {
      "cell_type": "markdown",
      "metadata": {
        "id": "8i-z9XM6QD6Q"
      },
      "source": [
        "# ขึ้น error แบบนี้แปลว่า มันไม่สามารถใช้ float + str ได้"
      ]
    },
    {
      "cell_type": "code",
      "metadata": {
        "colab": {
          "base_uri": "https://localhost:8080/",
          "height": 168
        },
        "id": "a3HSxG15OT2f",
        "outputId": "eadce2c1-adde-47f1-b622-3d32eeeffe46"
      },
      "source": [
        "bbb + ccc "
      ],
      "execution_count": 71,
      "outputs": [
        {
          "output_type": "error",
          "ename": "TypeError",
          "evalue": "ignored",
          "traceback": [
            "\u001b[0;31m---------------------------------------------------------------------------\u001b[0m",
            "\u001b[0;31mTypeError\u001b[0m                                 Traceback (most recent call last)",
            "\u001b[0;32m<ipython-input-71-ffb90d253fd6>\u001b[0m in \u001b[0;36m<module>\u001b[0;34m()\u001b[0m\n\u001b[0;32m----> 1\u001b[0;31m \u001b[0mbbb\u001b[0m \u001b[0;34m+\u001b[0m \u001b[0mccc\u001b[0m\u001b[0;34m\u001b[0m\u001b[0;34m\u001b[0m\u001b[0m\n\u001b[0m",
            "\u001b[0;31mTypeError\u001b[0m: unsupported operand type(s) for +: 'float' and 'str'"
          ]
        }
      ]
    },
    {
      "cell_type": "code",
      "metadata": {
        "id": "x2wTZjtBOg0d"
      },
      "source": [
        "ddd = 'ภิญญาดา'\r\n",
        "print(ddd)"
      ],
      "execution_count": null,
      "outputs": []
    },
    {
      "cell_type": "markdown",
      "metadata": {
        "id": "A8x8BmADPf3i"
      },
      "source": [
        "# การเปลี่ยนชนิดของตัวแปร variable casting"
      ]
    },
    {
      "cell_type": "code",
      "metadata": {
        "id": "elLnQrp0PaGE"
      },
      "source": [
        "aaa + int(ccc) "
      ],
      "execution_count": null,
      "outputs": []
    },
    {
      "cell_type": "code",
      "metadata": {
        "id": "DdsgdkvhQNza"
      },
      "source": [
        "aaa + float(ccc)"
      ],
      "execution_count": null,
      "outputs": []
    },
    {
      "cell_type": "code",
      "metadata": {
        "id": "qeliV2xzQTam"
      },
      "source": [
        "str(aaa)"
      ],
      "execution_count": null,
      "outputs": []
    },
    {
      "cell_type": "markdown",
      "metadata": {
        "id": "NBdo7bVHW_rY"
      },
      "source": [
        "#  การดำเนินการ Operation (Operators +,-,/,%)"
      ]
    },
    {
      "cell_type": "code",
      "metadata": {
        "id": "9o88wTHZWqBN"
      },
      "source": [
        "ab=3\r\n",
        "print(ab)"
      ],
      "execution_count": null,
      "outputs": []
    },
    {
      "cell_type": "code",
      "metadata": {
        "id": "BpfCcNjTYE3A"
      },
      "source": [
        "cd=5\r\n",
        "print(cd)"
      ],
      "execution_count": null,
      "outputs": []
    },
    {
      "cell_type": "code",
      "metadata": {
        "id": "1aUO8nvxYJ0P"
      },
      "source": [
        "ab+cd"
      ],
      "execution_count": null,
      "outputs": []
    },
    {
      "cell_type": "code",
      "metadata": {
        "id": "mbIBXkZhYLy5"
      },
      "source": [
        "aaa + bbb"
      ],
      "execution_count": null,
      "outputs": []
    },
    {
      "cell_type": "code",
      "metadata": {
        "id": "oWTVSfPUYnvD"
      },
      "source": [
        "aaa - bbb"
      ],
      "execution_count": null,
      "outputs": []
    },
    {
      "cell_type": "code",
      "metadata": {
        "id": "T3cIQqSFZFWf"
      },
      "source": [
        "abc= aaa*bbb\r\n",
        "print(abc)"
      ],
      "execution_count": null,
      "outputs": []
    },
    {
      "cell_type": "code",
      "metadata": {
        "id": "W0SL8Vy7ZNTR"
      },
      "source": [
        "abc= int(ccc)\r\n",
        "print(abc)"
      ],
      "execution_count": null,
      "outputs": []
    },
    {
      "cell_type": "code",
      "metadata": {
        "id": "6rJ1ZVgpYpH7"
      },
      "source": [
        "aaa / bbb"
      ],
      "execution_count": null,
      "outputs": []
    },
    {
      "cell_type": "markdown",
      "metadata": {
        "id": "U2cyMByiY0BA"
      },
      "source": [
        "### % คือ Modulo"
      ]
    },
    {
      "cell_type": "code",
      "metadata": {
        "id": "MeTAncpgYsaH"
      },
      "source": [
        "aaa % bbb"
      ],
      "execution_count": null,
      "outputs": []
    },
    {
      "cell_type": "code",
      "metadata": {
        "id": "_r3wqiq_YuSD"
      },
      "source": [
        "4%3"
      ],
      "execution_count": null,
      "outputs": []
    },
    {
      "cell_type": "code",
      "metadata": {
        "id": "iF8800Y5Zbr_"
      },
      "source": [
        "5%2"
      ],
      "execution_count": null,
      "outputs": []
    },
    {
      "cell_type": "code",
      "metadata": {
        "id": "QjvmTGAEZdGG"
      },
      "source": [
        "3%1"
      ],
      "execution_count": null,
      "outputs": []
    },
    {
      "cell_type": "code",
      "metadata": {
        "id": "b2hj0pOuZf81"
      },
      "source": [
        "5%3"
      ],
      "execution_count": null,
      "outputs": []
    },
    {
      "cell_type": "markdown",
      "metadata": {
        "id": "tw3t21H6axY-"
      },
      "source": [
        "### คำสั่ง print แบบพิเศษ (การ format string)"
      ]
    },
    {
      "cell_type": "code",
      "metadata": {
        "id": "ow4f4En-ZjAO"
      },
      "source": [
        "print('ตัวแปร') #สิ่งที่อยู่ในวงเล็บคือ ตัวแปร และ string"
      ],
      "execution_count": null,
      "outputs": []
    },
    {
      "cell_type": "code",
      "metadata": {
        "id": "ezWM2UF_bZ3H"
      },
      "source": [
        "print(f'% คือการหารเอาเศษ เช่น 7%3 = {7%3}') # เพิ่ม f หน้า 'string' และใช้ {} ใส่ code"
      ],
      "execution_count": null,
      "outputs": []
    },
    {
      "cell_type": "code",
      "metadata": {
        "id": "tgxYhKZPby1u"
      },
      "source": [
        "print(f'% คือการหารเอาเศษ เช่น 7%3 = {7%3} \\\\\r\n",
        "        แต่ \\n/ คือการหารปกติ เช่น 7/3 = {7/3} \\\\\r\n",
        "        และ \\n// คือการหารเอาส่วน เช่น 7//3 = {7//3} \\\\\r\n",
        "        หรือ \\nใช้ int() เพื่อหารเอาส่วน เช่น int(7/3) = {int(7/3)}') # \\n คือการขึ้นบรรทัดใหม่ \\\\ ใช้ในการตัด code แต่ code จะไม่เห็น\r\n",
        "      "
      ],
      "execution_count": null,
      "outputs": []
    },
    {
      "cell_type": "markdown",
      "metadata": {
        "id": "HpPTWsSihL0E"
      },
      "source": [
        "#DATA STRUCTURE (โครงสร้างข้อมูล)"
      ]
    },
    {
      "cell_type": "markdown",
      "metadata": {
        "id": "9tsAlfY4hfP5"
      },
      "source": [
        "### List คือ การเอาข้อมูลหลายๆตัวมาเรียงต่อกัน\r\n",
        "#### List สามารถสร้างได้ 2 แบบ ดังนี้"
      ]
    },
    {
      "cell_type": "markdown",
      "metadata": {
        "id": "DncUpMjlhjV6"
      },
      "source": [
        "### แบบที่ 1 > square brackets"
      ]
    },
    {
      "cell_type": "code",
      "metadata": {
        "id": "Ph1bDq9ehciC"
      },
      "source": [
        "[111,'c','งง',aaa]"
      ],
      "execution_count": null,
      "outputs": []
    },
    {
      "cell_type": "code",
      "metadata": {
        "id": "Yy19JiRLhwMt"
      },
      "source": [
        "list_a = []\r\n",
        "print(list_a)"
      ],
      "execution_count": null,
      "outputs": []
    },
    {
      "cell_type": "code",
      "metadata": {
        "id": "Br6PE0MaiAKd"
      },
      "source": [
        "list_b = [1,3,5,7,'E']\r\n",
        "print(list_b) "
      ],
      "execution_count": null,
      "outputs": []
    },
    {
      "cell_type": "markdown",
      "metadata": {
        "id": "lfcj88eLiOCs"
      },
      "source": [
        "### ลำดับที่อยู่ใน list มีความสำคัญ (ลำดับใน list เริ่มจาก 0,1,2,...)"
      ]
    },
    {
      "cell_type": "code",
      "metadata": {
        "id": "eK7szxhYiL05"
      },
      "source": [
        "list_b[2]"
      ],
      "execution_count": null,
      "outputs": []
    },
    {
      "cell_type": "code",
      "metadata": {
        "id": "xErljPUHijTr"
      },
      "source": [
        "list_b[4]"
      ],
      "execution_count": null,
      "outputs": []
    },
    {
      "cell_type": "markdown",
      "metadata": {
        "id": "on1GAnyPitom"
      },
      "source": [
        "### แบบที่ 2 "
      ]
    },
    {
      "cell_type": "code",
      "metadata": {
        "id": "iX1OwHUfinsO"
      },
      "source": [
        "list_c = list()\r\n",
        "print(list_c)"
      ],
      "execution_count": null,
      "outputs": []
    },
    {
      "cell_type": "markdown",
      "metadata": {
        "id": "P3q6yrhsi7r9"
      },
      "source": [
        "# Append() เพิ่มสมาชิกใน list"
      ]
    },
    {
      "cell_type": "code",
      "metadata": {
        "id": "9umOmMYEi45G"
      },
      "source": [
        "list_b.append('V')\r\n",
        "print(list_b)"
      ],
      "execution_count": null,
      "outputs": []
    },
    {
      "cell_type": "markdown",
      "metadata": {
        "id": "nPIyCyUZky0a"
      },
      "source": [
        "0 คือสมาชิกตัวแรก , -1 คือสมาชิกตัวสุดท้าย"
      ]
    },
    {
      "cell_type": "markdown",
      "metadata": {
        "id": "slezsM8TkmU9"
      },
      "source": [
        "list_b[ ]  # ตัวที่อยู่ในวงเล็บหลังจากตัวแปร list เรียกว่า index ใช้สำหรับชี้ข้อมูลใน list (ชี้จากข้างหน้า,ชี้กจากข้างหลัง)"
      ]
    },
    {
      "cell_type": "code",
      "metadata": {
        "id": "p7uGAEobjcg4"
      },
      "source": [
        "list_b.pop()  ### ดึงสมาชิกที่สุดท้ายออกจาก list"
      ],
      "execution_count": null,
      "outputs": []
    },
    {
      "cell_type": "code",
      "metadata": {
        "id": "BolkTMdfjrLT"
      },
      "source": [
        "list_b"
      ],
      "execution_count": null,
      "outputs": []
    },
    {
      "cell_type": "code",
      "metadata": {
        "id": "_948aaB8jwsB"
      },
      "source": [
        "list_b.append(list_a)\r\n",
        "print(list_b)"
      ],
      "execution_count": null,
      "outputs": []
    },
    {
      "cell_type": "code",
      "metadata": {
        "id": "kLElCkCXj1D7"
      },
      "source": [
        "list_b[-3]"
      ],
      "execution_count": null,
      "outputs": []
    },
    {
      "cell_type": "markdown",
      "metadata": {
        "id": "Iu9lgGuClOSG"
      },
      "source": [
        "# String > list of charactors"
      ]
    },
    {
      "cell_type": "code",
      "metadata": {
        "id": "lNMP8gRNlCZU"
      },
      "source": [
        "t = 'python is easy'\r\n",
        "print(t)"
      ],
      "execution_count": null,
      "outputs": []
    },
    {
      "cell_type": "code",
      "metadata": {
        "id": "8lCQEtIFlefo"
      },
      "source": [
        "t[1]"
      ],
      "execution_count": null,
      "outputs": []
    },
    {
      "cell_type": "code",
      "metadata": {
        "id": "aN3z9koflhNJ"
      },
      "source": [
        "t[-5]"
      ],
      "execution_count": null,
      "outputs": []
    },
    {
      "cell_type": "code",
      "metadata": {
        "id": "MA6-G6zRlkou"
      },
      "source": [
        "t[-4]"
      ],
      "execution_count": null,
      "outputs": []
    },
    {
      "cell_type": "code",
      "metadata": {
        "id": "1os1P5g6lmJ9"
      },
      "source": [
        "t[3]"
      ],
      "execution_count": null,
      "outputs": []
    },
    {
      "cell_type": "code",
      "metadata": {
        "id": "NXQMXuuxlqKQ"
      },
      "source": [
        "t[0]"
      ],
      "execution_count": null,
      "outputs": []
    },
    {
      "cell_type": "markdown",
      "metadata": {
        "id": "RUfqhvSqltzc"
      },
      "source": [
        "# จบ 5 ม.ค 64"
      ]
    },
    {
      "cell_type": "markdown",
      "metadata": {
        "id": "KUHkglN9iMoG"
      },
      "source": [
        "## คาบ 3 วันที่ 11 มกราคม 2021"
      ]
    },
    {
      "cell_type": "code",
      "metadata": {
        "id": "LDR5khPblsQs",
        "colab": {
          "base_uri": "https://localhost:8080/"
        },
        "outputId": "88d786c6-1e2f-4a56-bf30-c1bce73e1692"
      },
      "source": [
        "len(t)"
      ],
      "execution_count": 56,
      "outputs": [
        {
          "output_type": "execute_result",
          "data": {
            "text/plain": [
              "14"
            ]
          },
          "metadata": {
            "tags": []
          },
          "execution_count": 56
        }
      ]
    },
    {
      "cell_type": "code",
      "metadata": {
        "colab": {
          "base_uri": "https://localhost:8080/"
        },
        "id": "YqMtRW_lip17",
        "outputId": "d4090ed7-4628-44c0-a401-c6d0ce0219b5"
      },
      "source": [
        "list_b"
      ],
      "execution_count": 72,
      "outputs": [
        {
          "output_type": "execute_result",
          "data": {
            "text/plain": [
              "[1, 3, 5, 7, 'E', 'V']"
            ]
          },
          "metadata": {
            "tags": []
          },
          "execution_count": 72
        }
      ]
    },
    {
      "cell_type": "code",
      "metadata": {
        "colab": {
          "base_uri": "https://localhost:8080/"
        },
        "id": "6RILzQjslDt3",
        "outputId": "0f5ef4f4-6096-40c2-f9f7-12b3e4bd89c0"
      },
      "source": [
        "len(list_b) # len คือคำสั่งตรวจสอบความยาวของ list (จำนวนสมาชิก)"
      ],
      "execution_count": 73,
      "outputs": [
        {
          "output_type": "execute_result",
          "data": {
            "text/plain": [
              "6"
            ]
          },
          "metadata": {
            "tags": []
          },
          "execution_count": 73
        }
      ]
    },
    {
      "cell_type": "code",
      "metadata": {
        "colab": {
          "base_uri": "https://localhost:8080/"
        },
        "id": "sq4HO1nGlQJx",
        "outputId": "0beed96b-e194-4669-ee11-6b12fda87c9b"
      },
      "source": [
        "list_b.append(t)\r\n",
        "print(list_b)"
      ],
      "execution_count": 74,
      "outputs": [
        {
          "output_type": "stream",
          "text": [
            "[1, 3, 5, 7, 'E', 'V', 'python is easy']\n"
          ],
          "name": "stdout"
        }
      ]
    },
    {
      "cell_type": "markdown",
      "metadata": {
        "id": "-yKPM_BBlbT1"
      },
      "source": [
        "### ตัวที่อยู่ข้างใน [ ] เราเรียกว่า index (ตัวชี้)"
      ]
    },
    {
      "cell_type": "markdown",
      "metadata": {
        "id": "YWbYni0Nlx85"
      },
      "source": [
        "#### List slicing สามารถทำได้โดยใช้ colon:"
      ]
    },
    {
      "cell_type": "code",
      "metadata": {
        "colab": {
          "base_uri": "https://localhost:8080/"
        },
        "id": "Gc4LCkEmlZOl",
        "outputId": "6cdc5334-1b12-4164-f3a1-d3f0a7a93059"
      },
      "source": [
        "print(t)\r\n",
        "print(t[7:9])\r\n",
        "print(len(t[7:9]))"
      ],
      "execution_count": 78,
      "outputs": [
        {
          "output_type": "stream",
          "text": [
            "python is easy\n",
            "is\n",
            "2\n"
          ],
          "name": "stdout"
        }
      ]
    },
    {
      "cell_type": "code",
      "metadata": {
        "colab": {
          "base_uri": "https://localhost:8080/",
          "height": 36
        },
        "id": "SQaAHnp6nlG7",
        "outputId": "6290b5c5-4462-4857-9167-1d7129159dfc"
      },
      "source": [
        "t[0:14:2] # นอกจากเริ่มที่ตัวไหนจบที่ตัวไหน ถ้าเพิ่ม : เลขหลัง colon จะวิ่งไปทีละตัวหรือกระโดดไหม"
      ],
      "execution_count": 80,
      "outputs": [
        {
          "output_type": "execute_result",
          "data": {
            "application/vnd.google.colaboratory.intrinsic+json": {
              "type": "string"
            },
            "text/plain": [
              "'pto ses'"
            ]
          },
          "metadata": {
            "tags": []
          },
          "execution_count": 80
        }
      ]
    },
    {
      "cell_type": "code",
      "metadata": {
        "colab": {
          "base_uri": "https://localhost:8080/",
          "height": 36
        },
        "id": "DYvCtCMkoJi7",
        "outputId": "5c6806a8-3b29-47df-c566-faa9bcd86386"
      },
      "source": [
        "t[0:14:3]"
      ],
      "execution_count": 81,
      "outputs": [
        {
          "output_type": "execute_result",
          "data": {
            "application/vnd.google.colaboratory.intrinsic+json": {
              "type": "string"
            },
            "text/plain": [
              "'ph  s'"
            ]
          },
          "metadata": {
            "tags": []
          },
          "execution_count": 81
        }
      ]
    },
    {
      "cell_type": "markdown",
      "metadata": {
        "id": "CzNJq7t0oTa3"
      },
      "source": [
        "# Quiz\r\n",
        "ให้ใช้ list slicing เลือกมาเฉพาะเลขคู่"
      ]
    },
    {
      "cell_type": "code",
      "metadata": {
        "colab": {
          "base_uri": "https://localhost:8080/"
        },
        "id": "9Fofl3wcodrt",
        "outputId": "fcdd05f8-3b1e-4758-c245-583606ba0c5a"
      },
      "source": [
        "z = [1,2,3,4,5,6,7,8,9,10]\r\n",
        "print(z[1:10:2])"
      ],
      "execution_count": 83,
      "outputs": [
        {
          "output_type": "stream",
          "text": [
            "[2, 4, 6, 8, 10]\n"
          ],
          "name": "stdout"
        }
      ]
    },
    {
      "cell_type": "markdown",
      "metadata": {
        "id": "gjg-u0uKl95z"
      },
      "source": [
        "ถ้าเว้นว่างหน้า : หมายความว่า เริ่มตั้งแต่วันแรก\r\n",
        "\r\n",
        "ถ้าเว้นว่างหลัง : หมายความว่า ไปจนถึงตัวสุดท้าย"
      ]
    },
    {
      "cell_type": "code",
      "metadata": {
        "colab": {
          "base_uri": "https://localhost:8080/"
        },
        "id": "JUhcIrqJlwFL",
        "outputId": "2d6aec7b-1e0e-4171-ae7f-2c7f912e4a26"
      },
      "source": [
        "print(t)\r\n",
        "print(t[:6])\r\n",
        "print(t[10:])\r\n",
        "print(t[-4:])\r\n",
        "print(t[:])"
      ],
      "execution_count": 77,
      "outputs": [
        {
          "output_type": "stream",
          "text": [
            "python is easy\n",
            "python\n",
            "easy\n",
            "easy\n",
            "python is easy\n"
          ],
          "name": "stdout"
        }
      ]
    },
    {
      "cell_type": "code",
      "metadata": {
        "colab": {
          "base_uri": "https://localhost:8080/"
        },
        "id": "U2aG4V5eqUxy",
        "outputId": "2cd5b69c-034f-4328-b91e-c2ccd8c2a552"
      },
      "source": [
        "print(z[::2])"
      ],
      "execution_count": 84,
      "outputs": [
        {
          "output_type": "stream",
          "text": [
            "[1, 3, 5, 7, 9]\n"
          ],
          "name": "stdout"
        }
      ]
    },
    {
      "cell_type": "markdown",
      "metadata": {
        "id": "zR1YtvbkpHVK"
      },
      "source": [
        "#### เราสามารถเอา list มาต่อกันได้ด้วย +"
      ]
    },
    {
      "cell_type": "code",
      "metadata": {
        "colab": {
          "base_uri": "https://localhost:8080/",
          "height": 36
        },
        "id": "U4pNEllenjx3",
        "outputId": "368a004a-a09f-467a-9dce-9e6a2fed16a4"
      },
      "source": [
        "t + '??'"
      ],
      "execution_count": 85,
      "outputs": [
        {
          "output_type": "execute_result",
          "data": {
            "application/vnd.google.colaboratory.intrinsic+json": {
              "type": "string"
            },
            "text/plain": [
              "'python is easy??'"
            ]
          },
          "metadata": {
            "tags": []
          },
          "execution_count": 85
        }
      ]
    },
    {
      "cell_type": "code",
      "metadata": {
        "colab": {
          "base_uri": "https://localhost:8080/",
          "height": 168
        },
        "id": "8zgxkrOWr4m2",
        "outputId": "63eb01b2-9b83-48fd-f34e-355ed4fd83a8"
      },
      "source": [
        "t + list_b ## ไม่สามารถเอา list ปกติมาต่อกับ string ได้ จะทำให้ error"
      ],
      "execution_count": 87,
      "outputs": [
        {
          "output_type": "error",
          "ename": "TypeError",
          "evalue": "ignored",
          "traceback": [
            "\u001b[0;31m---------------------------------------------------------------------------\u001b[0m",
            "\u001b[0;31mTypeError\u001b[0m                                 Traceback (most recent call last)",
            "\u001b[0;32m<ipython-input-87-385e94520dd5>\u001b[0m in \u001b[0;36m<module>\u001b[0;34m()\u001b[0m\n\u001b[0;32m----> 1\u001b[0;31m \u001b[0mt\u001b[0m \u001b[0;34m+\u001b[0m \u001b[0mlist_b\u001b[0m \u001b[0;31m## ไม่สามารถเอา list ปกติมาต่อกับ string ได้ จะทำให้ error\u001b[0m\u001b[0;34m\u001b[0m\u001b[0;34m\u001b[0m\u001b[0m\n\u001b[0m",
            "\u001b[0;31mTypeError\u001b[0m: must be str, not list"
          ]
        }
      ]
    },
    {
      "cell_type": "code",
      "metadata": {
        "colab": {
          "base_uri": "https://localhost:8080/"
        },
        "id": "bzMdjFI2sEpc",
        "outputId": "f5efbf78-1d07-4999-9170-769892fe6f86"
      },
      "source": [
        "print(list_a)\r\n",
        "print(list_b)\r\n",
        "print(list_b + list_a)"
      ],
      "execution_count": 90,
      "outputs": [
        {
          "output_type": "stream",
          "text": [
            "[]\n",
            "[1, 3, 5, 7, 'E', 'V', 'python is easy']\n",
            "[1, 3, 5, 7, 'E', 'V', 'python is easy']\n"
          ],
          "name": "stdout"
        }
      ]
    },
    {
      "cell_type": "code",
      "metadata": {
        "colab": {
          "base_uri": "https://localhost:8080/"
        },
        "id": "9AUrj4pSsLYU",
        "outputId": "0b6b3bf3-5861-40aa-85fd-43013cb107c4"
      },
      "source": [
        "print(list_a)\r\n",
        "list_b = [111, 'c' , 'งง' , aaa]\r\n",
        "print(list_b)"
      ],
      "execution_count": 91,
      "outputs": [
        {
          "output_type": "stream",
          "text": [
            "[]\n",
            "[111, 'c', 'งง', 1234]\n"
          ],
          "name": "stdout"
        }
      ]
    },
    {
      "cell_type": "markdown",
      "metadata": {
        "id": "I0HHM801tydc"
      },
      "source": [
        "### การแบ่ง string ตามสัญลักษณ์ที่กำหนด -> split string"
      ]
    },
    {
      "cell_type": "code",
      "metadata": {
        "colab": {
          "base_uri": "https://localhost:8080/",
          "height": 36
        },
        "id": "rFnkZ4tItwGF",
        "outputId": "36f05ab8-2dcd-428e-b1dd-c6805919a26b"
      },
      "source": [
        "t"
      ],
      "execution_count": 92,
      "outputs": [
        {
          "output_type": "execute_result",
          "data": {
            "application/vnd.google.colaboratory.intrinsic+json": {
              "type": "string"
            },
            "text/plain": [
              "'python is easy'"
            ]
          },
          "metadata": {
            "tags": []
          },
          "execution_count": 92
        }
      ]
    },
    {
      "cell_type": "code",
      "metadata": {
        "colab": {
          "base_uri": "https://localhost:8080/"
        },
        "id": "iUTVA5Rit7yH",
        "outputId": "2ce0014a-9729-4a01-817c-16bba0425a25"
      },
      "source": [
        "t.split(' ')"
      ],
      "execution_count": 94,
      "outputs": [
        {
          "output_type": "execute_result",
          "data": {
            "text/plain": [
              "['python', 'is', 'easy']"
            ]
          },
          "metadata": {
            "tags": []
          },
          "execution_count": 94
        }
      ]
    },
    {
      "cell_type": "code",
      "metadata": {
        "id": "JGYz6K1qt_ou"
      },
      "source": [
        "time = '12:30:15'"
      ],
      "execution_count": 95,
      "outputs": []
    },
    {
      "cell_type": "code",
      "metadata": {
        "colab": {
          "base_uri": "https://localhost:8080/"
        },
        "id": "zUemT9LZuFwb",
        "outputId": "98cf93c4-d8e4-4cba-e731-6a96a7457f48"
      },
      "source": [
        "time.split(':')"
      ],
      "execution_count": 96,
      "outputs": [
        {
          "output_type": "execute_result",
          "data": {
            "text/plain": [
              "['12', '30', '15']"
            ]
          },
          "metadata": {
            "tags": []
          },
          "execution_count": 96
        }
      ]
    },
    {
      "cell_type": "code",
      "metadata": {
        "colab": {
          "base_uri": "https://localhost:8080/"
        },
        "id": "1FCgrLXmut-o",
        "outputId": "637098c6-0d69-4779-8d2c-a916c455e47b"
      },
      "source": [
        "t_sp = t.split(' ')\r\n",
        "print(t_sp)"
      ],
      "execution_count": 97,
      "outputs": [
        {
          "output_type": "stream",
          "text": [
            "['python', 'is', 'easy']\n"
          ],
          "name": "stdout"
        }
      ]
    },
    {
      "cell_type": "code",
      "metadata": {
        "colab": {
          "base_uri": "https://localhost:8080/"
        },
        "id": "y8XsORvdu9U0",
        "outputId": "d042d8c9-33a5-4b11-e9d8-62f06b374f5e"
      },
      "source": [
        "## วิธีรวมกลับ \r\n",
        "print(':'.join(t_sp))"
      ],
      "execution_count": 98,
      "outputs": [
        {
          "output_type": "stream",
          "text": [
            "python:is:easy\n"
          ],
          "name": "stdout"
        }
      ]
    },
    {
      "cell_type": "markdown",
      "metadata": {
        "id": "LrjJUCKkvwwB"
      },
      "source": [
        "### HW คำนวณเวลาเป็นวินาทีของเวลาต่อไปนี้โดยใช้คำสั่ง split() ช่วย (print ออกมาให้สวยงาม)\r\n",
        "\r\n",
        "12:30:15 = 45,015\r\n",
        "\r\n",
        "13:41:07 = 49,267\r\n",
        "\r\n",
        "12:53:15 = 46,395\r\n",
        "\r\n",
        "00:59:25 = 3,565\r\n",
        "\r\n",
        "11:11:11 = 40,271\r\n",
        "\r\n",
        "16:06:09 = 57,969\r\n",
        "\r\n",
        "21:12:30 = 76,350\r\n",
        "\r\n",
        "10:06:15 = 36,375\r\n",
        "\r\n",
        "ตัวอย่าง > 00:01:10 = 70 วินาที\r\n",
        "ตัวอย่าง > 01:00:01 = 3,601 วินาที"
      ]
    },
    {
      "cell_type": "code",
      "metadata": {
        "colab": {
          "base_uri": "https://localhost:8080/"
        },
        "id": "EZl8O5clvtfK",
        "outputId": "7aea5c8d-3f6d-4f34-e3a8-c5f9041f252a"
      },
      "source": [
        "q1 = '12:30:15'\r\n",
        "list_q1 = [12,30,15]\r\n",
        "a = list_q1[0]*3600\r\n",
        "b = list_q1[1]*60\r\n",
        "c = list_q1[2]\r\n",
        "x = a+b+c\r\n",
        "print(x)"
      ],
      "execution_count": 2,
      "outputs": [
        {
          "output_type": "stream",
          "text": [
            "45015\n"
          ],
          "name": "stdout"
        }
      ]
    },
    {
      "cell_type": "code",
      "metadata": {
        "id": "NIReUQAGs9AV",
        "outputId": "60930d84-8fc5-4b1e-948d-4e31931c1715",
        "colab": {
          "base_uri": "https://localhost:8080/"
        }
      },
      "source": [
        "q2 = '13:41:7'\r\n",
        "list_q2 = [13,41,7]\r\n",
        "d = list_q2[0]*3600\r\n",
        "e = list_q2[1]*60\r\n",
        "f = list_q2[2]\r\n",
        "x = d+e+f\r\n",
        "print(x)"
      ],
      "execution_count": 8,
      "outputs": [
        {
          "output_type": "stream",
          "text": [
            "49267\n"
          ],
          "name": "stdout"
        }
      ]
    },
    {
      "cell_type": "code",
      "metadata": {
        "id": "WsEU7e_Mufnj",
        "outputId": "97b0a9cf-cdd4-44dc-8f30-3180a34f891f",
        "colab": {
          "base_uri": "https://localhost:8080/"
        }
      },
      "source": [
        "q3 = '12:53:15'\r\n",
        "list_q3 = [12,53,15]\r\n",
        "g = list_q3[0]*3600\r\n",
        "h = list_q3[1]*60\r\n",
        "i = list_q3[2]\r\n",
        "x = g+h+i\r\n",
        "print(x)"
      ],
      "execution_count": 10,
      "outputs": [
        {
          "output_type": "stream",
          "text": [
            "46395\n"
          ],
          "name": "stdout"
        }
      ]
    },
    {
      "cell_type": "code",
      "metadata": {
        "id": "PbPPn4hGxbtV",
        "outputId": "30b128dd-5d8e-4337-cc1b-4de0bb7a37d4",
        "colab": {
          "base_uri": "https://localhost:8080/"
        }
      },
      "source": [
        "q4 = '00:59:25'\r\n",
        "list_q4 = [00,59,25]\r\n",
        "j = list_q4[0]*3600\r\n",
        "k = list_q4[1]*60\r\n",
        "l = list_q4[2]\r\n",
        "x = j+k+l\r\n",
        "print(x)"
      ],
      "execution_count": 12,
      "outputs": [
        {
          "output_type": "stream",
          "text": [
            "3565\n"
          ],
          "name": "stdout"
        }
      ]
    },
    {
      "cell_type": "code",
      "metadata": {
        "id": "ue_i9AiVxsHA",
        "outputId": "137d9fc6-d376-439a-d43c-2f139e381844",
        "colab": {
          "base_uri": "https://localhost:8080/"
        }
      },
      "source": [
        "q5 = '11:11:11'\r\n",
        "list_q5 = [11,11,11]\r\n",
        "m = list_q5[0]*3600\r\n",
        "n = list_q5[1]*60\r\n",
        "o = list_q5[2]\r\n",
        "x = m+n+o\r\n",
        "print(x)"
      ],
      "execution_count": 13,
      "outputs": [
        {
          "output_type": "stream",
          "text": [
            "40271\n"
          ],
          "name": "stdout"
        }
      ]
    },
    {
      "cell_type": "code",
      "metadata": {
        "id": "P3FOjRM1yRDr",
        "outputId": "307325fd-1595-4e88-f410-d24f93086a92",
        "colab": {
          "base_uri": "https://localhost:8080/"
        }
      },
      "source": [
        "q6 = '16:6:9'\r\n",
        "list_q6 = [16,6,9]\r\n",
        "p = list_q6[0]*3600\r\n",
        "q = list_q6[1]*60\r\n",
        "r = list_q6[2]\r\n",
        "x = p+q+r\r\n",
        "print(x)"
      ],
      "execution_count": 15,
      "outputs": [
        {
          "output_type": "stream",
          "text": [
            "57969\n"
          ],
          "name": "stdout"
        }
      ]
    },
    {
      "cell_type": "code",
      "metadata": {
        "id": "2HN20g-zyfGk",
        "outputId": "aa93a8c6-004b-4b45-8bba-fa3889ff9806",
        "colab": {
          "base_uri": "https://localhost:8080/"
        }
      },
      "source": [
        "q7 = '21:12:30'\r\n",
        "list_q7 = [21,12,30]\r\n",
        "t = list_q7[0]*3600\r\n",
        "u = list_q7[1]*60\r\n",
        "v = list_q7[2]\r\n",
        "x = t+u+v\r\n",
        "print(x)"
      ],
      "execution_count": 17,
      "outputs": [
        {
          "output_type": "stream",
          "text": [
            "76350\n"
          ],
          "name": "stdout"
        }
      ]
    },
    {
      "cell_type": "code",
      "metadata": {
        "id": "ScVvt-ZQywIo",
        "outputId": "d262d192-45d5-4aaf-8556-b1f36f9bb27f",
        "colab": {
          "base_uri": "https://localhost:8080/"
        }
      },
      "source": [
        "q8 = '10:6:15'\r\n",
        "list_q8 = [10,6,15]\r\n",
        "y = list_q8[0]*3600\r\n",
        "z = list_q8[1]*60\r\n",
        "a = list_q8[2]\r\n",
        "x = y+z+a\r\n",
        "print(x)"
      ],
      "execution_count": 18,
      "outputs": [
        {
          "output_type": "stream",
          "text": [
            "36375\n"
          ],
          "name": "stdout"
        }
      ]
    },
    {
      "cell_type": "markdown",
      "metadata": {
        "id": "R8GdQYf7zL6Z"
      },
      "source": [
        "# จบ 11 มค 2564"
      ]
    },
    {
      "cell_type": "code",
      "metadata": {
        "id": "WtQcDOrbzJCS"
      },
      "source": [
        ""
      ],
      "execution_count": null,
      "outputs": []
    }
  ]
}