{
  "nbformat": 4,
  "nbformat_minor": 0,
  "metadata": {
    "colab": {
      "name": "Intro to Multivariate.ipynb",
      "provenance": [],
      "authorship_tag": "ABX9TyM36HaYilpnb9zECKGYwPlJ",
      "include_colab_link": true
    },
    "kernelspec": {
      "name": "python3",
      "display_name": "Python 3"
    }
  },
  "cells": [
    {
      "cell_type": "markdown",
      "metadata": {
        "id": "view-in-github",
        "colab_type": "text"
      },
      "source": [
        "<a href=\"https://colab.research.google.com/github/PhinyadaPhen/Multivariate/blob/main/Intro_to_Multivariate.ipynb\" target=\"_parent\"><img src=\"https://colab.research.google.com/assets/colab-badge.svg\" alt=\"Open In Colab\"/></a>"
      ]
    },
    {
      "cell_type": "markdown",
      "metadata": {
        "id": "WxT_GU3zMe_M"
      },
      "source": [
        "ภิญญาดา เพ็ญสุข ID 623021052-2"
      ]
    },
    {
      "cell_type": "code",
      "metadata": {
        "colab": {
          "base_uri": "https://localhost:8080/"
        },
        "id": "jcEz7GCRMrto",
        "outputId": "fe9aba44-c7bc-4253-841d-2cd1a27a71e1"
      },
      "source": [
        "print('ภิญญาดา') #single quote (') ใช้ล้อมรอบข้อความ           "
      ],
      "execution_count": null,
      "outputs": [
        {
          "output_type": "stream",
          "text": [
            "ภิญญาดา\n"
          ],
          "name": "stdout"
        }
      ]
    }
  ]
}